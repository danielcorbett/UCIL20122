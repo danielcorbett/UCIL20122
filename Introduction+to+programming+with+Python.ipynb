{
 "cells": [
  {
   "cell_type": "markdown",
   "metadata": {},
   "source": [
    "<img src=\"./intro_images/MIE.png\" width=\"500\" align=\"right\" />"
   ]
  },
  {
   "cell_type": "markdown",
   "metadata": {},
   "source": [
    "<div style=\"text-align: right\">Dr Alan Davies</div>\n",
    "<div style=\"text-align: right\">Lecturer health data science</div>"
   ]
  },
  {
   "cell_type": "markdown",
   "metadata": {},
   "source": [
    "<h3>Introduction to programming with Python</h3>"
   ]
  },
  {
   "cell_type": "markdown",
   "metadata": {},
   "source": [
    "****"
   ]
  },
  {
   "cell_type": "markdown",
   "metadata": {},
   "source": [
    "This notebook contains details about how to program with Python. Take your time to read through it and have a go at answering the questions. The best way to learn to code is to learn by doing. Run the video below for an overview of how this notebook works."
   ]
  },
  {
   "cell_type": "markdown",
   "metadata": {
    "cell_style": "split"
   },
   "source": [
    "<video controls src=\"./intro_images/nbdemo.mp4\" width=\"500\" />"
   ]
  },
  {
   "cell_type": "markdown",
   "metadata": {
    "cell_style": "split"
   },
   "source": [
    "The notebook lets us present you with text, images, videos and other interactive elements all in one place. The yellow boxes indicated headings for the various topics. Green boxes contain additional notes or extra information. The code cells allow you to input and run Python code. The blue boxes represent exercices. You can click on the plus/minus button next to an excersize to show or hide the suggested solution. To run a cell hold the **shift** key and press the **enter** button at the same time (**shift** + **enter**).\n",
    "<br />\n",
    "<br />\n",
    "<br />\n",
    "<br />\n",
    "<br />\n",
    "<br />\n",
    "<br />\n",
    "<br />\n",
    "<br />\n",
    "<br />"
   ]
  },
  {
   "cell_type": "markdown",
   "metadata": {},
   "source": [
    "***"
   ]
  },
  {
   "cell_type": "markdown",
   "metadata": {
    "cell_style": "split"
   },
   "source": [
    "Some informaton about Python:\n",
    "<ul>\n",
    "<li>Developed by Guido Van Rossum in 1991</li>\n",
    "<li>Named after Monty Python (English comedians)</li>\n",
    "<li>Supports multiple programming paradigms</li>\n",
    "<li>Is open source (free)</li>\n",
    "<li>Programs are platform independent</li>\n",
    "<li>Often referred to as a ‘glue’ language</li>\n",
    "<li>One of the most popular languages for data science</li>\n",
    "</ul>"
   ]
  },
  {
   "cell_type": "markdown",
   "metadata": {
    "cell_style": "split"
   },
   "source": [
    "<img src=\"./intro_images/Guido.jpg\" width=\"100\" />\n",
    "<br>\n",
    "<div style=\"text-align:center\">Guido Van Rossum</div>"
   ]
  },
  {
   "cell_type": "markdown",
   "metadata": {},
   "source": [
    "<div class=\"alert alert-warning\">\n",
    "<b>Contents</b>  \n",
    "</div>"
   ]
  },
  {
   "cell_type": "markdown",
   "metadata": {},
   "source": []
  },
  {
   "cell_type": "markdown",
   "metadata": {},
   "source": [
    "<div class=\"alert alert-warning\">\n",
    "<b>1.0 Variables</b>  \n",
    "</div>"
   ]
  },
  {
   "cell_type": "markdown",
   "metadata": {},
   "source": [
    "Most programs recieve data from some input that the program then manipulates in some way to produce a result. This input can be very diverse. For example it maybe a keypress in a video game to move a character on the screen, a list of payrole numbers or some data from a martian probe. In all cases we need to store this data somewhere. In computer programs we use <b>variables</b> to store data. The name variable implies that the thing being stored may vary. Let look at some examples. "
   ]
  },
  {
   "cell_type": "code",
   "execution_count": 2,
   "metadata": {
    "collapsed": true
   },
   "outputs": [],
   "source": [
    "x = 1\n",
    "weight_kg = 104\n",
    "my_name = \"David Smith\"\n",
    "price = 10.56"
   ]
  },
  {
   "cell_type": "markdown",
   "metadata": {},
   "source": [
    "In the example above we have 4 variables called  **`x`**, <b>`weight_kg`</b>, <b>`my_name`</b> and <b>`price`</b>. There are 4 main types of data including:<br>\n",
    "<ul>\n",
    "<li><b>Integers</b> - whole number values</li>\n",
    "<li><b>Floating point</b> numbers - Numbers with a dot in them i.e. 10.56</li>\n",
    "<li><b>Strings</b> - contain text</li>\n",
    "<li><b>Boolean</b> - True and False values</li>\n",
    "</ul>\n",
    "Python is able to work out which <b>`type`</b> a variable is based on the value stored within. For example, it knows <b>`weight_kg`</b> is an <b>`integer`</b> because it caintains in integer (whole number) value <b>`104`</b>."
   ]
  },
  {
   "cell_type": "markdown",
   "metadata": {},
   "source": [
    "<div class=\"alert alert-success\">\n",
    "<b>Note:</b> We use the term <i>floating point</i> because the dot doesn't necissarily represent a decimal point (base 10). It could be binary (base 2), octal (base 8) or hexidecimal (base 16) to name a few.  \n",
    "</div>"
   ]
  },
  {
   "cell_type": "markdown",
   "metadata": {},
   "source": [
    "The equals operator (=) is used for <b>variable assignment</b>. This is basically saying store the value on the right of the equals in the label on the left of the equals. i.e. **`x = 1`** means put <b>`1`</b> into a label called <b>`x`</b>. We can see what is inside a variable (what value it contains) by using the print function and passing in the variable name."
   ]
  },
  {
   "cell_type": "code",
   "execution_count": 3,
   "metadata": {},
   "outputs": [
    {
     "name": "stdout",
     "output_type": "stream",
     "text": [
      "104\n"
     ]
    }
   ],
   "source": [
    "print(weight_kg)"
   ]
  },
  {
   "cell_type": "markdown",
   "metadata": {},
   "source": [
    "Another way of looking at it is like a box that you want to store some data inside which you can give a meaningful label to to help organise and store your data i.e. **`weight_kg = 10.56`**:"
   ]
  },
  {
   "cell_type": "markdown",
   "metadata": {},
   "source": [
    "<img src=\"./intro_images/box.png\" width=\"300\" />"
   ]
  },
  {
   "cell_type": "markdown",
   "metadata": {},
   "source": [
    "We can use the label when we want to retrieve that value later for some computation or other processing. We can also see what type a variable is using the type function. For the <b>`weight_kg`</b> it is an integer represented by the word <b>`float`</b> because we changed the value from a whole number to one with a point in it."
   ]
  },
  {
   "cell_type": "code",
   "execution_count": 12,
   "metadata": {},
   "outputs": [
    {
     "data": {
      "text/plain": [
       "float"
      ]
     },
     "execution_count": 12,
     "metadata": {},
     "output_type": "execute_result"
    }
   ],
   "source": [
    "weight_kg = 10.56\n",
    "type(weight_kg)"
   ]
  },
  {
   "cell_type": "markdown",
   "metadata": {
    "solution": "hidden",
    "solution_first": true
   },
   "source": [
    "<div class=\"alert alert-block alert-info\">\n",
    "<b>Task 1:</b>\n",
    "<br> \n",
    "1. What <i>type</i> do you think the variable <i>price</i> and <i>my_name</i> are?<br> \n",
    "2. Use the <i>type</i> function to check in the cells below.\n",
    "</div>"
   ]
  },
  {
   "cell_type": "code",
   "execution_count": null,
   "metadata": {
    "collapsed": true,
    "solution": "hidden"
   },
   "outputs": [],
   "source": [
    "type(price)\n",
    "type(my_name)"
   ]
  },
  {
   "cell_type": "code",
   "execution_count": null,
   "metadata": {
    "collapsed": true,
    "solution": "hidden"
   },
   "outputs": [],
   "source": []
  },
  {
   "cell_type": "code",
   "execution_count": null,
   "metadata": {
    "collapsed": true,
    "hide_input": true
   },
   "outputs": [],
   "source": []
  },
  {
   "cell_type": "code",
   "execution_count": null,
   "metadata": {
    "collapsed": true
   },
   "outputs": [],
   "source": []
  },
  {
   "cell_type": "markdown",
   "metadata": {},
   "source": [
    "#### 1.1 Variable names"
   ]
  },
  {
   "cell_type": "markdown",
   "metadata": {
    "solution": "hidden"
   },
   "source": [
    "In maths varaibles tend to be labelled with a single letter like <i>i</i>, <i>x</i> and <i>j</i>... In programming we can afford to use longer and more descriptive labels that better describe the value they hold i.e. <b>`weight_kg`</b>, which suggests it might contain some data on weight measured in kilograms. The convention in Python is to use <b>snake case</b>. This is where words are written in lower case and separated by an underscore (i.e. `data_file_loader`). Other languages like C and Java use <b>camel case</b> where new words are capitalised like the humps on a camels back (i.e. `dataFileLoader`). There are a few restrictions to how we can name a variable in Python. These include:\n",
    "<ul>\n",
    "<li>The first character cannot be a number</li>\n",
    "<li>The name can't be the same as an existing Python keyword (more about this later)</li>\n",
    "</ul>\n",
    "Variables can start with an underscore, contain letters and numbers and be any length. Case is important though. A variable named <b>`my_name`</b> is not the same as one called <b>`My_name`</b>. In this case you would have made (declared) 2 separate variables."
   ]
  },
  {
   "cell_type": "markdown",
   "metadata": {
    "solution": "hidden",
    "solution_first": true
   },
   "source": [
    "<div class=\"alert alert-block alert-info\">\n",
    "<b>Task 2:</b>\n",
    "<br> \n",
    "1. Which of these are legal variable names? <i>_accounts</i>, <i>1005_accounts</i> and <i>my_accounts</i><br> \n",
    "2. Use the cells below to check and assign a value to each variable i.e. <i>_accounts = 10</i>.\n",
    "</div>"
   ]
  },
  {
   "cell_type": "code",
   "execution_count": null,
   "metadata": {
    "collapsed": true,
    "solution": "hidden"
   },
   "outputs": [],
   "source": [
    "_accounts = 10\n",
    "1005_accounts = 10\n",
    "my_accounts = 10"
   ]
  },
  {
   "cell_type": "code",
   "execution_count": 18,
   "metadata": {
    "collapsed": true,
    "solution": "hidden"
   },
   "outputs": [],
   "source": [
    "_accounts = 10"
   ]
  },
  {
   "cell_type": "code",
   "execution_count": null,
   "metadata": {
    "collapsed": true
   },
   "outputs": [],
   "source": []
  },
  {
   "cell_type": "code",
   "execution_count": null,
   "metadata": {
    "collapsed": true
   },
   "outputs": [],
   "source": []
  },
  {
   "cell_type": "markdown",
   "metadata": {},
   "source": [
    "#### 1.2 Working with strings"
   ]
  },
  {
   "cell_type": "code",
   "execution_count": null,
   "metadata": {
    "collapsed": true
   },
   "outputs": [],
   "source": [
    "## TODO: Add stuff about strings here"
   ]
  },
  {
   "cell_type": "markdown",
   "metadata": {},
   "source": [
    "#### 1.2 Keywords"
   ]
  },
  {
   "cell_type": "markdown",
   "metadata": {},
   "source": [
    "As mentioned above there are several reserved words called <b>keywords</b> that Python reserves for use. A variable name must be the same as one of these keyowrds. To see what these keywords are, type <b>help('keywords')</b> into the cell below."
   ]
  },
  {
   "cell_type": "code",
   "execution_count": 21,
   "metadata": {},
   "outputs": [
    {
     "name": "stdout",
     "output_type": "stream",
     "text": [
      "\n",
      "Here is a list of the Python keywords.  Enter any keyword to get more help.\n",
      "\n",
      "False               def                 if                  raise\n",
      "None                del                 import              return\n",
      "True                elif                in                  try\n",
      "and                 else                is                  while\n",
      "as                  except              lambda              with\n",
      "assert              finally             nonlocal            yield\n",
      "break               for                 not                 \n",
      "class               from                or                  \n",
      "continue            global              pass                \n",
      "\n"
     ]
    }
   ],
   "source": [
    "help('keywords')"
   ]
  },
  {
   "cell_type": "markdown",
   "metadata": {},
   "source": [
    "<div class=\"alert alert-success\">\n",
    "<b>Note:</b> This is the **`help()`** function and you can use it to find out how functions and keywords work in Python. For example if you type `help('for')` you will see information about the `for` statement.  \n",
    "</div>"
   ]
  },
  {
   "cell_type": "code",
   "execution_count": null,
   "metadata": {
    "collapsed": true
   },
   "outputs": [],
   "source": []
  },
  {
   "cell_type": "markdown",
   "metadata": {},
   "source": [
    "#### 1.3 Changing a variables type"
   ]
  },
  {
   "cell_type": "markdown",
   "metadata": {
    "solution": "hidden"
   },
   "source": [
    "To store and process the values contained inside variables you may need to change their type from time to time (called <b>type casting</b>). For example when storing a phone number, we might want to store this as text rather than as an integer. There are several functions in Python for altering a variables type, including <b>int()</b>, <b>float()</b> and <b>str()</b>. "
   ]
  },
  {
   "cell_type": "code",
   "execution_count": 29,
   "metadata": {},
   "outputs": [
    {
     "data": {
      "text/plain": [
       "float"
      ]
     },
     "execution_count": 29,
     "metadata": {},
     "output_type": "execute_result"
    }
   ],
   "source": [
    "pi = 3.141592\n",
    "type(pi)"
   ]
  },
  {
   "cell_type": "code",
   "execution_count": 30,
   "metadata": {},
   "outputs": [
    {
     "data": {
      "text/plain": [
       "str"
      ]
     },
     "execution_count": 30,
     "metadata": {},
     "output_type": "execute_result"
    }
   ],
   "source": [
    "pi = str(pi)\n",
    "type(pi)"
   ]
  },
  {
   "cell_type": "markdown",
   "metadata": {},
   "source": [
    "In the example above we decalre a variable called <b>pi</b> and give it the value <b>3.141592</b> to represent the Greek letter pi ($\\pi$) that represents the ratio of a circumference of a circle to its diameter. When we use the <b>type</b> function we can see that it is a <b>float</b>. Next we use the <b>str()</b> function to convert it into a string and overwire the existing value. Now when we view the type it is a <b>string (str)</b>."
   ]
  },
  {
   "cell_type": "markdown",
   "metadata": {},
   "source": [
    "<div class=\"alert alert-warning\">\n",
    "<b>2.0 Operators</b>  \n",
    "</div>"
   ]
  },
  {
   "cell_type": "markdown",
   "metadata": {},
   "source": [
    "To carry out computational tasks Python (and all other programming languages) use <b>operators</b>. These operators can be broadly split into one used for carrying out <b>arithmetic</b>, <b>comparison</b> (comparing things) and <b>logical</b> for making choices. The arithmetic operators allow basic mathamatical tasks to be carried out like addition and subtraction and can be combined to make more complex statements just as in maths. For example:"
   ]
  },
  {
   "cell_type": "code",
   "execution_count": 34,
   "metadata": {},
   "outputs": [
    {
     "name": "stdout",
     "output_type": "stream",
     "text": [
      "50\n"
     ]
    }
   ],
   "source": [
    "some_number = 20\n",
    "some_other_number = 30\n",
    "print(some_number + some_other_number)"
   ]
  },
  {
   "cell_type": "code",
   "execution_count": 35,
   "metadata": {},
   "outputs": [
    {
     "name": "stdout",
     "output_type": "stream",
     "text": [
      "53\n"
     ]
    }
   ],
   "source": [
    "print(some_number + some_other_number - 5 + 8)"
   ]
  },
  {
   "cell_type": "markdown",
   "metadata": {},
   "source": [
    "#### 2.1 Arithmetic operators"
   ]
  },
  {
   "cell_type": "markdown",
   "metadata": {},
   "source": [
    "<style type=\"text/css\">\n",
    ".tg  {border-collapse:collapse;border-spacing:0;}\n",
    ".tg td{font-family:Arial, sans-serif;font-size:14px;padding:10px 5px;border-style:solid;border-width:1px;overflow:hidden;word-break:normal;border-color:black;}\n",
    ".tg th{font-family:Arial, sans-serif;font-size:14px;font-weight:normal;padding:10px 5px;border-style:solid;border-width:1px;overflow:hidden;word-break:normal;border-color:black;}\n",
    ".tg .tg-kiyi{font-weight:bold;border-color:inherit;text-align:left}\n",
    ".tg .tg-fymr{font-weight:bold;border-color:inherit;text-align:left;vertical-align:top}\n",
    ".tg .tg-xldj{border-color:inherit;text-align:left}\n",
    ".tg .tg-0pky{border-color:inherit;text-align:left;vertical-align:top}\n",
    "</style>\n",
    "<table class=\"tg\">\n",
    "  <tr>\n",
    "    <th class=\"tg-kiyi\">Example</th>\n",
    "    <th class=\"tg-kiyi\">Meaning</th>\n",
    "    <th class=\"tg-fymr\">Math</th>\n",
    "    <th class=\"tg-kiyi\">Description</th>\n",
    "  </tr>\n",
    "  <tr>\n",
    "    <td class=\"tg-xldj\">a + b</td>\n",
    "    <td class=\"tg-xldj\">Addition</td>\n",
    "    <td class=\"tg-0pky\">a + b</td>\n",
    "    <td class=\"tg-xldj\">Sums values</td>\n",
    "  </tr>\n",
    "  <tr>\n",
    "    <td class=\"tg-xldj\">a - b</td>\n",
    "    <td class=\"tg-xldj\">Subtraction</td>\n",
    "    <td class=\"tg-0pky\">a - b</td>\n",
    "    <td class=\"tg-xldj\">Subtracts second number from first</td>\n",
    "  </tr>\n",
    "  <tr>\n",
    "    <td class=\"tg-xldj\">a $\\text{*}$ b</td>\n",
    "    <td class=\"tg-xldj\">Multiplication</td>\n",
    "    <td class=\"tg-0pky\">a $\\times$ b</td>\n",
    "    <td class=\"tg-xldj\">Multiplies values (product)</td>\n",
    "  </tr>\n",
    "  <tr>\n",
    "    <td class=\"tg-xldj\">a / b</td>\n",
    "    <td class=\"tg-xldj\">Division</td>\n",
    "    <td class=\"tg-0pky\">a $\\div$ b</td>\n",
    "    <td class=\"tg-xldj\">Divides a by b</td>\n",
    "  </tr>\n",
    "  <tr>\n",
    "    <td class=\"tg-0pky\">a % b</td>\n",
    "    <td class=\"tg-0pky\">Modulo</td>\n",
    "    <td class=\"tg-0pky\">mod</td>\n",
    "    <td class=\"tg-0pky\">The remainder of a division</td>\n",
    "  </tr>\n",
    "  <tr>\n",
    "    <td class=\"tg-0pky\">a // b</td>\n",
    "    <td class=\"tg-0pky\">Floor division</td>\n",
    "    <td class=\"tg-0pky\">floor()</td>\n",
    "    <td class=\"tg-0pky\">Division rounded to smallest integer</td>\n",
    "  </tr>\n",
    "  <tr>\n",
    "    <td class=\"tg-0pky\">a ** b</td>\n",
    "    <td class=\"tg-0pky\">Exponentiation</td>\n",
    "    <td class=\"tg-0pky\">$a^b$</td>\n",
    "    <td class=\"tg-0pky\">Raises a to power of b</td>\n",
    "  </tr>\n",
    "</table>"
   ]
  },
  {
   "cell_type": "markdown",
   "metadata": {
    "solution": "hidden",
    "solution_first": true
   },
   "source": [
    "<div class=\"alert alert-block alert-info\">\n",
    "<b>Task 3:</b>\n",
    "<br> \n",
    "Here is the formular for converting degrees from farenheit to celcius:\n",
    "$$ c = \\frac{5}{9}(f-32) $$\n",
    "Try and use the math operators to write this formular in Python. To test it works try giving <b>f</b> the value of <b>32</b>. This should be around <b>0</b> in $ ^{\\circ}$C.\n",
    "</div>"
   ]
  },
  {
   "cell_type": "code",
   "execution_count": null,
   "metadata": {
    "collapsed": true,
    "solution": "hidden"
   },
   "outputs": [],
   "source": [
    "f = 32\n",
    "c = (f-32)*5/9\n",
    "print(c)"
   ]
  },
  {
   "cell_type": "code",
   "execution_count": 8,
   "metadata": {
    "solution": "hidden"
   },
   "outputs": [
    {
     "name": "stdout",
     "output_type": "stream",
     "text": [
      "0.0\n"
     ]
    }
   ],
   "source": []
  },
  {
   "cell_type": "code",
   "execution_count": null,
   "metadata": {
    "collapsed": true,
    "solution": "hidden"
   },
   "outputs": [],
   "source": []
  },
  {
   "cell_type": "markdown",
   "metadata": {
    "solution": "hidden"
   },
   "source": [
    "#### 2.1 Comparision operators"
   ]
  },
  {
   "cell_type": "markdown",
   "metadata": {},
   "source": [
    "These kind of operators can be used to make comparissons between things. The result of such comparissions are either <b>True</b> or <b>False</b>. They include:"
   ]
  },
  {
   "cell_type": "markdown",
   "metadata": {},
   "source": [
    "<style type=\"text/css\">\n",
    ".tg  {border-collapse:collapse;border-spacing:0;}\n",
    ".tg td{font-family:Arial, sans-serif;font-size:14px;padding:10px 5px;border-style:solid;border-width:1px;overflow:hidden;word-break:normal;border-color:black;}\n",
    ".tg th{font-family:Arial, sans-serif;font-size:14px;font-weight:normal;padding:10px 5px;border-style:solid;border-width:1px;overflow:hidden;word-break:normal;border-color:black;}\n",
    ".tg .tg-kiyi{font-weight:bold;border-color:inherit;text-align:left}\n",
    ".tg .tg-fymr{font-weight:bold;border-color:inherit;text-align:left;vertical-align:top}\n",
    ".tg .tg-xldj{border-color:inherit;text-align:left}\n",
    ".tg .tg-0pky{border-color:inherit;text-align:left;vertical-align:top}\n",
    "</style>\n",
    "<table class=\"tg\">\n",
    "  <tr>\n",
    "    <th class=\"tg-kiyi\">Example</th>\n",
    "    <th class=\"tg-kiyi\">Meaning</th>\n",
    "    <th class=\"tg-fymr\">Math</th>\n",
    "    <th class=\"tg-kiyi\">Description</th>\n",
    "  </tr>\n",
    "  <tr>\n",
    "    <td class=\"tg-xldj\">a == b</td>\n",
    "    <td class=\"tg-xldj\">Equal to</td>\n",
    "    <td class=\"tg-0pky\">a = b</td>\n",
    "    <td class=\"tg-xldj\">Is a equal to b (do they contain the same value)</td>\n",
    "  </tr>\n",
    "  <tr>\n",
    "    <td class=\"tg-xldj\">a != b</td>\n",
    "    <td class=\"tg-xldj\">Not equal to</td>\n",
    "    <td class=\"tg-0pky\">a $\\neq$ b</td>\n",
    "    <td class=\"tg-xldj\">Is a not equal to b</td>\n",
    "  </tr>\n",
    "  <tr>\n",
    "    <td class=\"tg-xldj\">a $<$ b</td>\n",
    "    <td class=\"tg-xldj\">Less than</td>\n",
    "    <td class=\"tg-0pky\">a $<$ b</td>\n",
    "    <td class=\"tg-xldj\">Is a less than b</td>\n",
    "  </tr>\n",
    "  <tr>\n",
    "    <td class=\"tg-xldj\">a $<$= b</td>\n",
    "    <td class=\"tg-xldj\">Less than or equal to</td>\n",
    "    <td class=\"tg-0pky\">a $\\leq$ b</td>\n",
    "    <td class=\"tg-xldj\">Is a less than or equal to b</td>\n",
    "  </tr>\n",
    "  <tr>\n",
    "    <td class=\"tg-0pky\">a $>$ b</td>\n",
    "    <td class=\"tg-0pky\">Greater than</td>\n",
    "    <td class=\"tg-0pky\">a $>$ b</td>\n",
    "    <td class=\"tg-0pky\">Is a greater than b</td>\n",
    "  </tr>\n",
    "  <tr>\n",
    "    <td class=\"tg-0pky\">a $>$= b</td>\n",
    "    <td class=\"tg-0pky\">Greater than or equal to</td>\n",
    "    <td class=\"tg-0pky\">a $\\geq$ b</td>\n",
    "    <td class=\"tg-0pky\">Is a greater than or equal to b</td>\n",
    "  </tr>\n",
    "</table>"
   ]
  },
  {
   "cell_type": "markdown",
   "metadata": {},
   "source": [
    "Lets look at some examples:"
   ]
  },
  {
   "cell_type": "code",
   "execution_count": 38,
   "metadata": {
    "collapsed": true
   },
   "outputs": [],
   "source": [
    "a = 5\n",
    "b = 4"
   ]
  },
  {
   "cell_type": "code",
   "execution_count": 39,
   "metadata": {},
   "outputs": [
    {
     "data": {
      "text/plain": [
       "False"
      ]
     },
     "execution_count": 39,
     "metadata": {},
     "output_type": "execute_result"
    }
   ],
   "source": [
    "a == b"
   ]
  },
  {
   "cell_type": "code",
   "execution_count": 40,
   "metadata": {},
   "outputs": [
    {
     "data": {
      "text/plain": [
       "True"
      ]
     },
     "execution_count": 40,
     "metadata": {},
     "output_type": "execute_result"
    }
   ],
   "source": [
    "a != b"
   ]
  },
  {
   "cell_type": "code",
   "execution_count": 41,
   "metadata": {},
   "outputs": [
    {
     "data": {
      "text/plain": [
       "False"
      ]
     },
     "execution_count": 41,
     "metadata": {},
     "output_type": "execute_result"
    }
   ],
   "source": [
    "a < b"
   ]
  },
  {
   "cell_type": "markdown",
   "metadata": {
    "solution": "hidden"
   },
   "source": [
    "<div class=\"alert alert-block alert-info\">\n",
    "<b>Task 4:</b>\n",
    "<br> \n",
    "1. Use the cells below to try the remaining operators on <i>a</i> and <i>b</i>.<br>\n",
    "2. Try them again after changing the value of <b>b</b> to <b>5</b>.\n",
    "</div>"
   ]
  },
  {
   "cell_type": "code",
   "execution_count": null,
   "metadata": {
    "collapsed": true
   },
   "outputs": [],
   "source": []
  },
  {
   "cell_type": "markdown",
   "metadata": {},
   "source": [
    "#### 2.2 Logical operators"
   ]
  },
  {
   "cell_type": "markdown",
   "metadata": {},
   "source": [
    "When we have <b>True</b> or <b>False</b> expressions (called Boolean objects or expressions), we can evaluate them using logical operators. We can do this in programs to make choices. For example if you wanted to decide to take an umbrella with you or not, you may look out of the window and ask \"is it raining?\". If the answer is Yes (True) you would take your umbrella. If however the ansewer was No (False) you would not. More complex choices can be made by chaining these logical options together. For example <b>if it is raining and I own an umbrell then take it.</b>. First lets look at the logical operators and then see how we can use them to preform <b>selection</b>."
   ]
  },
  {
   "cell_type": "markdown",
   "metadata": {},
   "source": [
    "<style type=\"text/css\">\n",
    ".tg  {border-collapse:collapse;border-spacing:0;}\n",
    ".tg td{font-family:Arial, sans-serif;font-size:14px;padding:10px 5px;border-style:solid;border-width:1px;overflow:hidden;word-break:normal;border-color:black;}\n",
    ".tg th{font-family:Arial, sans-serif;font-size:14px;font-weight:normal;padding:10px 5px;border-style:solid;border-width:1px;overflow:hidden;word-break:normal;border-color:black;}\n",
    ".tg .tg-kiyi{font-weight:bold;border-color:inherit;text-align:left}\n",
    ".tg .tg-fymr{font-weight:bold;border-color:inherit;text-align:left;vertical-align:top}\n",
    ".tg .tg-xldj{border-color:inherit;text-align:left}\n",
    ".tg .tg-0pky{border-color:inherit;text-align:left;vertical-align:top}\n",
    "</style>\n",
    "<table class=\"tg\">\n",
    "  <tr>\n",
    "    <th class=\"tg-kiyi\">Example</th>\n",
    "    <th class=\"tg-kiyi\">Meaning</th>\n",
    "    <th class=\"tg-fymr\">Math</th>\n",
    "    <th class=\"tg-kiyi\">Description</th>\n",
    "  </tr>\n",
    "  <tr>\n",
    "    <td class=\"tg-xldj\">not a</td>\n",
    "    <td class=\"tg-xldj\">Not</td>\n",
    "    <td class=\"tg-0pky\">$\\lnot a$, $\\bar{a}$</td>\n",
    "    <td class=\"tg-xldj\">Reverses value of a. If True becomes False and vise versa</td>\n",
    "  </tr>\n",
    "  <tr>\n",
    "    <td class=\"tg-xldj\">a and b</td>\n",
    "    <td class=\"tg-xldj\">And</td>\n",
    "    <td class=\"tg-0pky\">$a \\land b$, $a \\cap b$</td>\n",
    "    <td class=\"tg-xldj\">This is True if a and b are True</td>\n",
    "  </tr>\n",
    "  <tr>\n",
    "    <td class=\"tg-xldj\">a or b</td>\n",
    "    <td class=\"tg-xldj\">Or</td>\n",
    "    <td class=\"tg-0pky\">$a \\lor b$, $a \\cup b$</td>\n",
    "    <td class=\"tg-xldj\">This is True is either a or b are True</td>\n",
    "  </tr>\n",
    "</table>"
   ]
  },
  {
   "cell_type": "markdown",
   "metadata": {},
   "source": [
    "Another way of visualising this is with a <b>venn</b> diagram. The image below shows what this looks like for <b>and</b> and <b>or</b>. "
   ]
  },
  {
   "cell_type": "markdown",
   "metadata": {},
   "source": [
    "<img src=\"./intro_images/fig2.png\" width=\"250\" />"
   ]
  },
  {
   "cell_type": "markdown",
   "metadata": {},
   "source": [
    "<div class=\"alert alert-warning\">\n",
    "<b>3.0 Selection</b>  \n",
    "</div>"
   ]
  },
  {
   "cell_type": "markdown",
   "metadata": {},
   "source": [
    "We can combine these operators to make decsions in our programs. This is one of the main purposes of computer programs, the ability to do different things based on its input. Here we can see some examples of how we can make choices using these operators and the keyowrds <b>if</b> and <b>else</b>. "
   ]
  },
  {
   "cell_type": "code",
   "execution_count": 44,
   "metadata": {},
   "outputs": [
    {
     "name": "stdout",
     "output_type": "stream",
     "text": [
      "Let's go\n"
     ]
    }
   ],
   "source": [
    "raining = False\n",
    "\n",
    "if raining == True:\n",
    "    print(\"Need to take umbrella\")\n",
    "else:\n",
    "    print(\"Let's go\")\n",
    "    "
   ]
  },
  {
   "cell_type": "markdown",
   "metadata": {},
   "source": [
    "There are a few new things here to pay attention to. First we define a variable called <b>raining</b> and set it to <b>False</b>. Then we ask a question (is it raining?). This line ends with a colon (:). This tells Python that the preceeding code which is indented (moved in) belongs, or is contained within the line with the colon. This means that the line <b>print(\"Need to take umbrella\")</b> will only be executed if the value of raining is <b>True</b>. The <b>else</b> keyword describes what happens if the initial conditon is not met. i.e. if raining is <b>False</b>. You don't have to provide an else statement.  "
   ]
  },
  {
   "cell_type": "markdown",
   "metadata": {},
   "source": [
    "<div class=\"alert alert-block alert-info\">\n",
    "<b>Task 5:</b>\n",
    "<br> \n",
    "1. Change the value of <b>raining</b> from <b>False</b> to <b>True</b> and run the code in the cell again.\n",
    "</div>"
   ]
  },
  {
   "cell_type": "markdown",
   "metadata": {},
   "source": [
    "If we want multiple alternative conditions to be checked we can use the <b>elif</b> (else if) keyword. Below we have several statements combined with the <b>and</b> operator. "
   ]
  },
  {
   "cell_type": "code",
   "execution_count": 48,
   "metadata": {},
   "outputs": [
    {
     "name": "stdout",
     "output_type": "stream",
     "text": [
      "Take umbrella\n"
     ]
    }
   ],
   "source": [
    "raining = True\n",
    "own_umbrella = True\n",
    "\n",
    "if raining == True and own_umbrella == True:\n",
    "    print(\"Take umbrella\")\n",
    "elif raining == True and own_umbrella == False:\n",
    "    print(\"I'm going to get wet\")\n",
    "else:\n",
    "    print(\"A nice day!\")"
   ]
  },
  {
   "cell_type": "markdown",
   "metadata": {},
   "source": [
    "We also don't have to explicitly say <b>== True</b>, as saying <b>if raining</b> works just as well. We could rewrite it as follows:"
   ]
  },
  {
   "cell_type": "code",
   "execution_count": 49,
   "metadata": {},
   "outputs": [
    {
     "name": "stdout",
     "output_type": "stream",
     "text": [
      "Take umbrella\n"
     ]
    }
   ],
   "source": [
    "raining = True\n",
    "own_umbrella = True\n",
    "\n",
    "if raining and own_umbrella:\n",
    "    print(\"Take umbrella\")\n",
    "elif raining and not own_umbrella:\n",
    "    print(\"I'm going to get wet\")\n",
    "else:\n",
    "    print(\"A nice day!\")"
   ]
  },
  {
   "cell_type": "markdown",
   "metadata": {
    "solution": "hidden",
    "solution_first": true
   },
   "source": [
    "<div class=\"alert alert-block alert-info\">\n",
    "<b>Task 6:</b>\n",
    "<br> \n",
    "1. Using what you have learnt. Use if and elif/else statements to take in an exam score and give the following grades:<br>\n",
    "less than 10 is a fail. Between 11 and 45 is a pass, between 46 and 65 is a merit and anything over 65 is a distinction.<br>\n",
    "2. Try changing the <i>exam_grade</i> to test that your logic is working as expected.\n",
    "<br>\n",
    "We started it off for you:\n",
    "</div>"
   ]
  },
  {
   "cell_type": "code",
   "execution_count": null,
   "metadata": {
    "collapsed": true,
    "solution": "hidden"
   },
   "outputs": [],
   "source": [
    "exam_grade = 56\n",
    "\n",
    "if exam_grade < 10:\n",
    "    print(\"Fail\")\n",
    "elif exam_grade >= 11 and exam_grade <= 45:\n",
    "    print(\"Pass\")\n",
    "elif exam_grade >= 46 and exam_grade <= 55:\n",
    "    print(\"Merit\")\n",
    "elif exam_grade > 55:\n",
    "    print(\"Distinction\")\n",
    "else:\n",
    "    print(\"Not a valid exam grade\")"
   ]
  },
  {
   "cell_type": "code",
   "execution_count": null,
   "metadata": {
    "collapsed": true
   },
   "outputs": [],
   "source": [
    "exam_grade = 56\n",
    "\n",
    "if exam_grade < 10:\n",
    "    print(\"Fail\")\n",
    "elif exam_grade >= 11 and exam_grade <= 45:\n",
    "    print(\"Pass\")\n",
    "    "
   ]
  },
  {
   "cell_type": "markdown",
   "metadata": {
    "collapsed": true
   },
   "source": [
    "<div class=\"alert alert-warning\">\n",
    "<b>4.0 Data structures</b>  \n",
    "</div>"
   ]
  },
  {
   "cell_type": "markdown",
   "metadata": {},
   "source": [
    "So far we have been using simple variables to store data for our programs. Python supports more advanced data structures for storing and organising data. These include <b>lists</b>, <b>tuples</b>, <b>sets</b> and <b>dictionaries</b>. We will examine each in turn."
   ]
  },
  {
   "cell_type": "markdown",
   "metadata": {},
   "source": [
    "#### 4.1 Lists"
   ]
  },
  {
   "cell_type": "markdown",
   "metadata": {},
   "source": [
    "Lists can contain multiple variables. Below we create a list called **fruit** and using square brackets add three items (in this case strings) to the list separated by commas. We can use the **`len()`** function to see how many items (**elements**) are contained in our list."
   ]
  },
  {
   "cell_type": "code",
   "execution_count": 6,
   "metadata": {
    "collapsed": true
   },
   "outputs": [],
   "source": [
    "fruit = ['apple', 'pear', 'banana']"
   ]
  },
  {
   "cell_type": "code",
   "execution_count": 7,
   "metadata": {},
   "outputs": [
    {
     "data": {
      "text/plain": [
       "3"
      ]
     },
     "execution_count": 7,
     "metadata": {},
     "output_type": "execute_result"
    }
   ],
   "source": [
    "len(fruit)"
   ]
  },
  {
   "cell_type": "markdown",
   "metadata": {},
   "source": [
    "To access individual elements of out list we can use the index. In Python this start at 0."
   ]
  },
  {
   "cell_type": "code",
   "execution_count": 8,
   "metadata": {},
   "outputs": [
    {
     "data": {
      "text/plain": [
       "'apple'"
      ]
     },
     "execution_count": 8,
     "metadata": {},
     "output_type": "execute_result"
    }
   ],
   "source": [
    "fruit[0]"
   ]
  },
  {
   "cell_type": "code",
   "execution_count": 9,
   "metadata": {},
   "outputs": [
    {
     "data": {
      "text/plain": [
       "'pear'"
      ]
     },
     "execution_count": 9,
     "metadata": {},
     "output_type": "execute_result"
    }
   ],
   "source": [
    "fruit[1]"
   ]
  },
  {
   "cell_type": "markdown",
   "metadata": {},
   "source": [
    "<img src=\"./intro_images/list.png\" width=\"500\" />"
   ]
  },
  {
   "cell_type": "markdown",
   "metadata": {
    "solution": "hidden"
   },
   "source": [
    "The image above shows another way of looking at our fruit list. You can image a list as a series of connected boxes that can contain some data (in this case the names of some fruit). We can now pass this whole list around like a single variable. This is very useful if you want to store a lot of data (for example all the players in a football team). To access the individual data in the boxes you use the index number (the numbers on the bottom starting at 0).  "
   ]
  },
  {
   "cell_type": "markdown",
   "metadata": {},
   "source": [
    "An empty list can be defined by using empty brackets:"
   ]
  },
  {
   "cell_type": "code",
   "execution_count": 29,
   "metadata": {
    "collapsed": true
   },
   "outputs": [],
   "source": [
    "my_list = []"
   ]
  },
  {
   "cell_type": "markdown",
   "metadata": {
    "collapsed": true
   },
   "source": [
    "Another useful feature of lists is that each element (box) can conaint data of different types. This means we could store a string in index 0, a number in element 1 and even another list or other data structure in another element. For example:"
   ]
  },
  {
   "cell_type": "code",
   "execution_count": 13,
   "metadata": {},
   "outputs": [
    {
     "name": "stdout",
     "output_type": "stream",
     "text": [
      "['some string', 23, 13.3, [1, 2, 5]]\n"
     ]
    }
   ],
   "source": [
    "my_list = ['some string', 23, 13.3, [1, 2, 5]]\n",
    "print(my_list)"
   ]
  },
  {
   "cell_type": "code",
   "execution_count": 14,
   "metadata": {},
   "outputs": [
    {
     "name": "stdout",
     "output_type": "stream",
     "text": [
      "23\n"
     ]
    }
   ],
   "source": [
    "print(my_list[1])"
   ]
  },
  {
   "cell_type": "code",
   "execution_count": 15,
   "metadata": {},
   "outputs": [
    {
     "name": "stdout",
     "output_type": "stream",
     "text": [
      "[1, 2, 5]\n"
     ]
    }
   ],
   "source": [
    "print(my_list[3])"
   ]
  },
  {
   "cell_type": "markdown",
   "metadata": {},
   "source": [
    "We can use the square brackets again to get to an element in our list within a list (nested list), such as the value 2:"
   ]
  },
  {
   "cell_type": "code",
   "execution_count": 17,
   "metadata": {},
   "outputs": [
    {
     "name": "stdout",
     "output_type": "stream",
     "text": [
      "2\n"
     ]
    }
   ],
   "source": [
    "print(my_list[3][1])"
   ]
  },
  {
   "cell_type": "markdown",
   "metadata": {},
   "source": [
    "In this example we get element 3 of **`my_list`** which contains the other list and then element 1 of that list which contains the number 2. This means we can create and store data in more complex structures. "
   ]
  },
  {
   "cell_type": "markdown",
   "metadata": {},
   "source": [
    "We can add items to the list using the **`append()`** function. In the example below we use this function to add the number 5 to the end of the list."
   ]
  },
  {
   "cell_type": "code",
   "execution_count": 20,
   "metadata": {},
   "outputs": [
    {
     "name": "stdout",
     "output_type": "stream",
     "text": [
      "[1, 2, 3, 4, 5]\n"
     ]
    }
   ],
   "source": [
    "my_list = [1, 2, 3, 4]\n",
    "my_list.append(5)\n",
    "print(my_list)"
   ]
  },
  {
   "cell_type": "markdown",
   "metadata": {},
   "source": [
    "In a simular way we can use the **`del`** keyword to remove an item from the list at a specific element. For example to remove the number 2 from the list:"
   ]
  },
  {
   "cell_type": "code",
   "execution_count": 21,
   "metadata": {},
   "outputs": [
    {
     "name": "stdout",
     "output_type": "stream",
     "text": [
      "[1, 3, 4, 5]\n"
     ]
    }
   ],
   "source": [
    "del my_list[1]\n",
    "print(my_list)"
   ]
  },
  {
   "cell_type": "markdown",
   "metadata": {},
   "source": [
    "We can also return parts of a list using the colon (:) operator. The following examples show how a start index on the left of the colon and an end index can be sepecifed. If no value is used then all values are used:"
   ]
  },
  {
   "cell_type": "code",
   "execution_count": 22,
   "metadata": {},
   "outputs": [
    {
     "name": "stdout",
     "output_type": "stream",
     "text": [
      "[3, 4]\n"
     ]
    }
   ],
   "source": [
    "print(my_list[1:3])"
   ]
  },
  {
   "cell_type": "code",
   "execution_count": 23,
   "metadata": {},
   "outputs": [
    {
     "name": "stdout",
     "output_type": "stream",
     "text": [
      "[3, 4, 5]\n"
     ]
    }
   ],
   "source": [
    "print(my_list[1:])"
   ]
  },
  {
   "cell_type": "code",
   "execution_count": 24,
   "metadata": {},
   "outputs": [
    {
     "name": "stdout",
     "output_type": "stream",
     "text": [
      "[1, 3, 4, 5]\n"
     ]
    }
   ],
   "source": [
    "print(my_list[:])"
   ]
  },
  {
   "cell_type": "code",
   "execution_count": 25,
   "metadata": {},
   "outputs": [
    {
     "name": "stdout",
     "output_type": "stream",
     "text": [
      "[1, 3, 4]\n"
     ]
    }
   ],
   "source": [
    "print(my_list[:3])"
   ]
  },
  {
   "cell_type": "code",
   "execution_count": 26,
   "metadata": {},
   "outputs": [
    {
     "name": "stdout",
     "output_type": "stream",
     "text": [
      "5\n"
     ]
    }
   ],
   "source": [
    "print(my_list[-1])"
   ]
  },
  {
   "cell_type": "markdown",
   "metadata": {},
   "source": [
    "We can also use the plus operator to add lists together:"
   ]
  },
  {
   "cell_type": "code",
   "execution_count": 28,
   "metadata": {},
   "outputs": [
    {
     "data": {
      "text/plain": [
       "[2, 4, 5, 2, 5]"
      ]
     },
     "execution_count": 28,
     "metadata": {},
     "output_type": "execute_result"
    }
   ],
   "source": [
    "[2, 4, 5] + [2, 5]"
   ]
  },
  {
   "cell_type": "markdown",
   "metadata": {},
   "source": [
    "There are many other methods (functions) that can be used with lists. They are used by writting the list name followed by a dot and then the name of the function. Like the **`pop()`** function that removes the last element of a list:"
   ]
  },
  {
   "cell_type": "code",
   "execution_count": 31,
   "metadata": {},
   "outputs": [
    {
     "name": "stdout",
     "output_type": "stream",
     "text": [
      "5\n"
     ]
    }
   ],
   "source": [
    "my_list = [1, 2, 3, 4, 5]\n",
    "print(my_list.pop())"
   ]
  },
  {
   "cell_type": "markdown",
   "metadata": {},
   "source": [
    "Some commonly used list functions:"
   ]
  },
  {
   "cell_type": "markdown",
   "metadata": {},
   "source": [
    "<style type=\"text/css\">\n",
    ".tg  {border-collapse:collapse;border-spacing:0;}\n",
    ".tg td{font-family:Arial, sans-serif;font-size:14px;padding:10px 5px;border-style:solid;border-width:1px;overflow:hidden;word-break:normal;border-color:black;}\n",
    ".tg th{font-family:Arial, sans-serif;font-size:14px;font-weight:normal;padding:10px 5px;border-style:solid;border-width:1px;overflow:hidden;word-break:normal;border-color:black;}\n",
    ".tg .tg-5ua9{font-weight:bold;text-align:left}\n",
    ".tg .tg-s268{text-align:left}\n",
    ".tg .tg-0lax{text-align:left;vertical-align:top}\n",
    "</style>\n",
    "<table class=\"tg\">\n",
    "  <tr>\n",
    "    <th class=\"tg-5ua9\">Function</th>\n",
    "    <th class=\"tg-5ua9\">Description</th>\n",
    "    <th class=\"tg-5ua9\">Example</th>\n",
    "  </tr>\n",
    "  <tr>\n",
    "    <td class=\"tg-5ua9\">append()</td>\n",
    "    <td class=\"tg-s268\">Adds an item to the end of a list</td>\n",
    "    <td class=\"tg-s268\">my_list.append(2)</td>\n",
    "  </tr>\n",
    "  <tr>\n",
    "    <td class=\"tg-s268\">extend()</td>\n",
    "    <td class=\"tg-s268\">Add multiple items to list</td>\n",
    "    <td class=\"tg-s268\">my_list.extend([1,2,4])</td>\n",
    "  </tr>\n",
    "  <tr>\n",
    "    <td class=\"tg-s268\">insert()</td>\n",
    "    <td class=\"tg-s268\">Add an item to list in specific position</td>\n",
    "    <td class=\"tg-s268\">my_list.insert(0, \"Hello\")</td>\n",
    "  </tr>\n",
    "  <tr>\n",
    "    <td class=\"tg-s268\">remove()</td>\n",
    "    <td class=\"tg-s268\">Remove a specified item from a list</td>\n",
    "    <td class=\"tg-s268\">my_list.remove(\"Hello\")</td>\n",
    "  </tr>\n",
    "  <tr>\n",
    "    <td class=\"tg-s268\">pop()</td>\n",
    "    <td class=\"tg-s268\">Remove item from a specified position or the last item if not</td>\n",
    "    <td class=\"tg-s268\">my_list.pop()</td>\n",
    "  </tr>\n",
    "  <tr>\n",
    "    <td class=\"tg-s268\">clear()</td>\n",
    "    <td class=\"tg-s268\">Remove all items in a list</td>\n",
    "    <td class=\"tg-s268\">my_list.clear()</td>\n",
    "  </tr>\n",
    "  <tr>\n",
    "    <td class=\"tg-s268\">index()</td>\n",
    "    <td class=\"tg-s268\">Find the index of an item in a list</td>\n",
    "    <td class=\"tg-s268\">my_list.index(\"Hello\")</td>\n",
    "  </tr>\n",
    "  <tr>\n",
    "    <td class=\"tg-s268\">count()</td>\n",
    "    <td class=\"tg-s268\">Number of times an item appears in a list</td>\n",
    "    <td class=\"tg-s268\">my_list.count(\"apples\")</td>\n",
    "  </tr>\n",
    "  <tr>\n",
    "    <td class=\"tg-s268\">sort()</td>\n",
    "    <td class=\"tg-s268\">Order items in a list (can use reverse=True) to alter order</td>\n",
    "    <td class=\"tg-s268\">my_list.sort()</td>\n",
    "  </tr>\n",
    "  <tr>\n",
    "    <td class=\"tg-s268\">reverse()</td>\n",
    "    <td class=\"tg-s268\">Reverse elements in a list</td>\n",
    "    <td class=\"tg-s268\">my_list.reverse()</td>\n",
    "  </tr>\n",
    "  <tr>\n",
    "    <td class=\"tg-0lax\">copy()</td>\n",
    "    <td class=\"tg-0lax\">Make a copy of a list</td>\n",
    "    <td class=\"tg-0lax\">my_list.copy()</td>\n",
    "  </tr>\n",
    "</table>"
   ]
  },
  {
   "cell_type": "markdown",
   "metadata": {
    "solution": "shown",
    "solution_first": true
   },
   "source": [
    "<div class=\"alert alert-block alert-info\">\n",
    "<b>Task 7:</b>\n",
    "<br> \n",
    "1. Make a new list with at least 5 string items<br>\n",
    "2. Use the <i>sort</i> function to put your list into order<br>\n",
    "3. Use the <i>pop</i> function to remove and print the last element of your sorted list\n",
    "</div>"
   ]
  },
  {
   "cell_type": "code",
   "execution_count": 33,
   "metadata": {
    "solution": "shown"
   },
   "outputs": [
    {
     "name": "stdout",
     "output_type": "stream",
     "text": [
      "pears\n"
     ]
    }
   ],
   "source": [
    "my_new_list = ['apples', 'oranges', 'bananas', 'pears', 'grapes']\n",
    "my_new_list.sort()\n",
    "print(my_new_list.pop())"
   ]
  },
  {
   "cell_type": "code",
   "execution_count": null,
   "metadata": {
    "collapsed": true
   },
   "outputs": [],
   "source": []
  },
  {
   "cell_type": "markdown",
   "metadata": {},
   "source": [
    "#### 4.2 Dictionaries"
   ]
  },
  {
   "cell_type": "markdown",
   "metadata": {},
   "source": [
    "Another useful data structure in Python is a **dictionary**. Disctionaries allow multiple data items to be labeled and included in a single data structure. Consider the following example that store some medical information about a patient:"
   ]
  },
  {
   "cell_type": "markdown",
   "metadata": {},
   "source": [
    "<img src=\"./intro_images/dr.jpg\" width=\"500\" />"
   ]
  },
  {
   "cell_type": "code",
   "execution_count": 35,
   "metadata": {
    "collapsed": true
   },
   "outputs": [],
   "source": [
    "med_data = {\n",
    "    \"name\": \"Mike Smith\",\n",
    "    \"dob\": \"13/12/1979\",\n",
    "    \"age\": 40,\n",
    "    \"NHS number\": 1223322334,\n",
    "    \"BP\": \"120/80\",\n",
    "    \"HR\": 76,\n",
    "    \"PMH\" : [\"diabetes\", \"hypertension\", \"atrial fibrillation\"]\n",
    "}"
   ]
  },
  {
   "cell_type": "code",
   "execution_count": 36,
   "metadata": {},
   "outputs": [
    {
     "name": "stdout",
     "output_type": "stream",
     "text": [
      "{'name': 'Mike Smith', 'dob': '13/12/1979', 'age': 40, 'NHS number': 1223322334, 'BP': '120/80', 'HR': 76, 'PMH': ['diabetes', 'hypertension', 'atrial fibrillation']}\n"
     ]
    }
   ],
   "source": [
    "print(med_data)"
   ]
  },
  {
   "cell_type": "markdown",
   "metadata": {},
   "source": [
    "Here we can store multiple items of information with associated labels in a single data structure. The label is placed in quotes followed by a colon and then the variable. Each item is spearated by a comma. We can then access each item using its label in simular way to a list but by using the label name. i.e:"
   ]
  },
  {
   "cell_type": "code",
   "execution_count": 37,
   "metadata": {},
   "outputs": [
    {
     "name": "stdout",
     "output_type": "stream",
     "text": [
      "120/80\n"
     ]
    }
   ],
   "source": [
    "print(med_data[\"BP\"])"
   ]
  },
  {
   "cell_type": "code",
   "execution_count": 38,
   "metadata": {},
   "outputs": [
    {
     "name": "stdout",
     "output_type": "stream",
     "text": [
      "Mike Smith\n"
     ]
    }
   ],
   "source": [
    "print(med_data[\"name\"])"
   ]
  },
  {
   "cell_type": "code",
   "execution_count": 39,
   "metadata": {},
   "outputs": [
    {
     "name": "stdout",
     "output_type": "stream",
     "text": [
      "['diabetes', 'hypertension', 'atrial fibrillation']\n"
     ]
    }
   ],
   "source": [
    "print(med_data[\"PMH\"])"
   ]
  },
  {
   "cell_type": "code",
   "execution_count": 40,
   "metadata": {},
   "outputs": [
    {
     "name": "stdout",
     "output_type": "stream",
     "text": [
      "atrial fibrillation\n"
     ]
    }
   ],
   "source": [
    "print(med_data[\"PMH\"][2])"
   ]
  },
  {
   "cell_type": "markdown",
   "metadata": {},
   "source": [
    "We can create an empty dictionary by doing either of the following:"
   ]
  },
  {
   "cell_type": "code",
   "execution_count": 41,
   "metadata": {
    "collapsed": true
   },
   "outputs": [],
   "source": [
    "my_dict = {}\n",
    "my_dict = dict()"
   ]
  },
  {
   "cell_type": "code",
   "execution_count": 42,
   "metadata": {
    "scrolled": true,
    "solution": "hidden"
   },
   "outputs": [
    {
     "data": {
      "text/plain": [
       "dict"
      ]
     },
     "execution_count": 42,
     "metadata": {},
     "output_type": "execute_result"
    }
   ],
   "source": [
    "type(my_dict)"
   ]
  },
  {
   "cell_type": "markdown",
   "metadata": {},
   "source": [
    "We can also change items stored at this label in the same way as a list. For example changing the blood pressure (BP) value:"
   ]
  },
  {
   "cell_type": "code",
   "execution_count": 43,
   "metadata": {},
   "outputs": [
    {
     "name": "stdout",
     "output_type": "stream",
     "text": [
      "{'name': 'Mike Smith', 'dob': '13/12/1979', 'age': 40, 'NHS number': 1223322334, 'BP': '132/76', 'HR': 76, 'PMH': ['diabetes', 'hypertension', 'atrial fibrillation']}\n"
     ]
    }
   ],
   "source": [
    "med_data[\"BP\"] = \"132/76\"\n",
    "print(med_data)"
   ]
  },
  {
   "cell_type": "markdown",
   "metadata": {
    "solution": "shown",
    "solution_first": true
   },
   "source": [
    "<div class=\"alert alert-block alert-info\">\n",
    "<b>Task 8:</b>\n",
    "<br> \n",
    "1. Add the medical condition <i>irritable bowel syndrome (IBS)</i> to the past medical history <i>(PMH)</i> in the dictionary and print the result\n",
    "</div>"
   ]
  },
  {
   "cell_type": "code",
   "execution_count": null,
   "metadata": {
    "collapsed": true,
    "solution": "shown"
   },
   "outputs": [],
   "source": [
    "med_data[\"PMH\"].append(\"IBS\")\n",
    "print(med_data)"
   ]
  },
  {
   "cell_type": "code",
   "execution_count": null,
   "metadata": {
    "collapsed": true,
    "solution": "hidden"
   },
   "outputs": [],
   "source": []
  },
  {
   "cell_type": "code",
   "execution_count": null,
   "metadata": {
    "collapsed": true,
    "solution": "hidden"
   },
   "outputs": [],
   "source": []
  },
  {
   "cell_type": "code",
   "execution_count": null,
   "metadata": {
    "collapsed": true
   },
   "outputs": [],
   "source": [
    "##TODO: sets and tuples"
   ]
  },
  {
   "cell_type": "markdown",
   "metadata": {},
   "source": [
    "<div class=\"alert alert-warning\">\n",
    "<b>5.0 Iteration</b>  \n",
    "</div>"
   ]
  },
  {
   "cell_type": "markdown",
   "metadata": {},
   "source": [
    "Now we have seen data structures like lists and dictonaries it makes sense to look at iteration as these concepts are often used together to exploit the power of such data structures. Iteration is a way of saying doing something over and over again or **looping**. This is useful when we want to do things like a repeat an operation a number of times or traverse through data structures like lists. Lets look at an example of this. Lets say we have a list of medical proceedures that we offer in our hospital cardiac catheterization lab:"
   ]
  },
  {
   "cell_type": "code",
   "execution_count": 45,
   "metadata": {
    "collapsed": true
   },
   "outputs": [],
   "source": [
    "cathlab_proceedures = ['angiogram', \n",
    "                       'pacemaker insertion', \n",
    "                       'electrophysiological studies', \n",
    "                       'transoesophageal echocardiogram',\n",
    "                       'Percutaneous Coronary Intervention',\n",
    "                       'AICD insertion',\n",
    "                       'reveal monitor insertion']"
   ]
  },
  {
   "cell_type": "markdown",
   "metadata": {},
   "source": [
    "We can list them one by one as before using the index:"
   ]
  },
  {
   "cell_type": "code",
   "execution_count": 46,
   "metadata": {},
   "outputs": [
    {
     "data": {
      "text/plain": [
       "'AICD insertion'"
      ]
     },
     "execution_count": 46,
     "metadata": {},
     "output_type": "execute_result"
    }
   ],
   "source": [
    "cathlab_proceedures[5]"
   ]
  },
  {
   "cell_type": "markdown",
   "metadata": {},
   "source": [
    "Doing this item at a time would be extreamly time consuming. Also what if we offered 250 proceedures. Instead we can use a **loop** to go through each item and print the result."
   ]
  },
  {
   "cell_type": "markdown",
   "metadata": {},
   "source": [
    "#### 5.1 For loops"
   ]
  },
  {
   "cell_type": "code",
   "execution_count": 48,
   "metadata": {},
   "outputs": [
    {
     "name": "stdout",
     "output_type": "stream",
     "text": [
      "The proceedures we offer are:\n",
      "angiogram\n",
      "pacemaker insertion\n",
      "electrophysiological studies\n",
      "transoesophageal echocardiogram\n",
      "Percutaneous Coronary Intervention\n",
      "AICD insertion\n",
      "reveal monitor insertion\n"
     ]
    }
   ],
   "source": [
    "print(\"The proceedures we offer are:\")\n",
    "\n",
    "for proceedure in cathlab_proceedures:\n",
    "    print(proceedure)"
   ]
  },
  {
   "cell_type": "markdown",
   "metadata": {},
   "source": [
    "Here we use the **`for`** keyword to create a loop for every proceedure in our list. All the code indented on the next line is contained within the loop. We can use loops to repeat items. Here is an example of saying hello 5 times."
   ]
  },
  {
   "cell_type": "code",
   "execution_count": 49,
   "metadata": {},
   "outputs": [
    {
     "name": "stdout",
     "output_type": "stream",
     "text": [
      "Hello\n",
      "Hello\n",
      "Hello\n",
      "Hello\n",
      "Hello\n"
     ]
    }
   ],
   "source": [
    "for i in range(5):\n",
    "    print(\"Hello\")"
   ]
  },
  {
   "cell_type": "markdown",
   "metadata": {},
   "source": [
    "Each time the loop repeats it automatically adds to the loop counter variable (in this case called **i**). This is called **incrementation**. We can see this in action if we print the value if **i** in the loop:"
   ]
  },
  {
   "cell_type": "code",
   "execution_count": 50,
   "metadata": {},
   "outputs": [
    {
     "name": "stdout",
     "output_type": "stream",
     "text": [
      "i =  0\n",
      "i =  1\n",
      "i =  2\n",
      "i =  3\n",
      "i =  4\n"
     ]
    }
   ],
   "source": [
    "for i in range(5):\n",
    "    print(\"i = \", i)"
   ]
  },
  {
   "cell_type": "markdown",
   "metadata": {},
   "source": [
    "Note that like with lists, Python starts at `0`, so `5` is `0` to `4` and **not** `1` to `5`.  "
   ]
  },
  {
   "cell_type": "markdown",
   "metadata": {},
   "source": [
    "We have 7 items in out list of proceedures so we could also write:"
   ]
  },
  {
   "cell_type": "code",
   "execution_count": 51,
   "metadata": {},
   "outputs": [
    {
     "name": "stdout",
     "output_type": "stream",
     "text": [
      "angiogram\n",
      "pacemaker insertion\n",
      "electrophysiological studies\n",
      "transoesophageal echocardiogram\n",
      "Percutaneous Coronary Intervention\n",
      "AICD insertion\n",
      "reveal monitor insertion\n"
     ]
    }
   ],
   "source": [
    "for i in range(7):\n",
    "    print(cathlab_proceedures[i])"
   ]
  },
  {
   "cell_type": "markdown",
   "metadata": {},
   "source": [
    "This would not be good practice though because we could add or remove items and that would cause an error:"
   ]
  },
  {
   "cell_type": "code",
   "execution_count": 52,
   "metadata": {
    "collapsed": true
   },
   "outputs": [],
   "source": [
    "cathlab_proceedures.append(\"cox maze\")"
   ]
  },
  {
   "cell_type": "code",
   "execution_count": 53,
   "metadata": {},
   "outputs": [
    {
     "name": "stdout",
     "output_type": "stream",
     "text": [
      "angiogram\n",
      "pacemaker insertion\n",
      "electrophysiological studies\n",
      "transoesophageal echocardiogram\n",
      "Percutaneous Coronary Intervention\n",
      "AICD insertion\n",
      "reveal monitor insertion\n"
     ]
    }
   ],
   "source": [
    "for i in range(7):\n",
    "    print(cathlab_proceedures[i])"
   ]
  },
  {
   "cell_type": "markdown",
   "metadata": {},
   "source": [
    "Here we are missing the last item. So it is good practice to do this as we did in the first instance or by using the **`len()`** function. "
   ]
  },
  {
   "cell_type": "code",
   "execution_count": 54,
   "metadata": {},
   "outputs": [
    {
     "name": "stdout",
     "output_type": "stream",
     "text": [
      "angiogram\n",
      "pacemaker insertion\n",
      "electrophysiological studies\n",
      "transoesophageal echocardiogram\n",
      "Percutaneous Coronary Intervention\n",
      "AICD insertion\n",
      "reveal monitor insertion\n",
      "cox maze\n"
     ]
    }
   ],
   "source": [
    "for proceedure in cathlab_proceedures:\n",
    "    print(proceedure)"
   ]
  },
  {
   "cell_type": "code",
   "execution_count": 59,
   "metadata": {},
   "outputs": [
    {
     "name": "stdout",
     "output_type": "stream",
     "text": [
      "angiogram\n",
      "pacemaker insertion\n",
      "electrophysiological studies\n",
      "transoesophageal echocardiogram\n",
      "Percutaneous Coronary Intervention\n",
      "AICD insertion\n",
      "reveal monitor insertion\n",
      "cox maze\n"
     ]
    }
   ],
   "source": [
    "for proceedure in range(len(cathlab_proceedures)):\n",
    "    print(cathlab_proceedures[proceedure])"
   ]
  },
  {
   "cell_type": "markdown",
   "metadata": {},
   "source": [
    "This means that we can do operations on entire lists. Lets say we had some working hours and we needed to reduce everyones hours by a single hour. We can use iteration to loop over the list and carry out this operation on each element:"
   ]
  },
  {
   "cell_type": "code",
   "execution_count": 63,
   "metadata": {},
   "outputs": [
    {
     "name": "stdout",
     "output_type": "stream",
     "text": [
      "[7.5, 8, 11, 5, 5.5, 7.5, 11, 11, 8]\n"
     ]
    }
   ],
   "source": [
    "hours_worked = [8.5, 9, 12, 6, 6.5, 8.5, 12, 12, 9]\n",
    "for i in range(len(hours_worked)):\n",
    "    hours_worked[i] = hours_worked[i] - 1\n",
    "    \n",
    "print(hours_worked)"
   ]
  },
  {
   "cell_type": "markdown",
   "metadata": {},
   "source": [
    "Python has the ability to use nested list comprehensions. This means you can put a loop inside the square brackets of a list. This is efficient in terms of reducing lines of code but is much harder for humans to understand so you need to way up the advantages and disadvantages of this approach. For example consider we has a list of strings that we wanted to convert to numbers, say heart rate values."
   ]
  },
  {
   "cell_type": "code",
   "execution_count": 66,
   "metadata": {},
   "outputs": [
    {
     "data": {
      "text/plain": [
       "str"
      ]
     },
     "execution_count": 66,
     "metadata": {},
     "output_type": "execute_result"
    }
   ],
   "source": [
    "hr_values = ['78', '80', '102', '65', '67']\n",
    "type(hr_values[0])"
   ]
  },
  {
   "cell_type": "markdown",
   "metadata": {},
   "source": [
    "We could write:"
   ]
  },
  {
   "cell_type": "code",
   "execution_count": 76,
   "metadata": {},
   "outputs": [
    {
     "data": {
      "text/plain": [
       "int"
      ]
     },
     "execution_count": 76,
     "metadata": {},
     "output_type": "execute_result"
    }
   ],
   "source": [
    "converted_hr_values = []\n",
    "for i in hr_values:\n",
    "    converted_hr_values.append(int(i))\n",
    "    \n",
    "type(converted_hr_values[0])"
   ]
  },
  {
   "cell_type": "markdown",
   "metadata": {},
   "source": [
    "Instead we could write it like this:"
   ]
  },
  {
   "cell_type": "code",
   "execution_count": 72,
   "metadata": {},
   "outputs": [
    {
     "data": {
      "text/plain": [
       "int"
      ]
     },
     "execution_count": 72,
     "metadata": {},
     "output_type": "execute_result"
    }
   ],
   "source": [
    "converted_hr_values = [int(i) for i in hr_values]\n",
    "type(converted_hr_values[0])"
   ]
  },
  {
   "cell_type": "markdown",
   "metadata": {},
   "source": [
    "Loops can also be nested so one loop can contain may more. We have seen how we can use a single loop to loop through a list. We can also use a loop within a loop to loop through something more complex like a matrix for example. A matrix is a mathamatical construct that simular to a table of data. Python doesn't have an inbuilt matrix type. This can be achived with a nested lists. So if we wanted to build a matrix like the following in Python we could:"
   ]
  },
  {
   "cell_type": "markdown",
   "metadata": {
    "cell_style": "split"
   },
   "source": [
    "$$\n",
    "M = \\begin{bmatrix}\n",
    "       7 & 6 & 0 \\\\[0.3em]\n",
    "       3 & 12 & 5 \\\\[0.3em]\n",
    "       -2 & 4 & 3\n",
    "     \\end{bmatrix}\n",
    "$$"
   ]
  },
  {
   "cell_type": "code",
   "execution_count": 77,
   "metadata": {
    "cell_style": "split"
   },
   "outputs": [
    {
     "name": "stdout",
     "output_type": "stream",
     "text": [
      "[[7, 6, 0], [3, 12, 5], [-2, 4, 3]]\n"
     ]
    }
   ],
   "source": [
    "M = [[7, 6, 0],\n",
    "     [3, 12, 5],\n",
    "     [-2, 4, 3]]\n",
    "\n",
    "print(M)"
   ]
  },
  {
   "cell_type": "markdown",
   "metadata": {},
   "source": [
    "So if we wanted to square each number in our matrix we could use nested loops. First we will print the values by row and column."
   ]
  },
  {
   "cell_type": "code",
   "execution_count": 84,
   "metadata": {},
   "outputs": [
    {
     "name": "stdout",
     "output_type": "stream",
     "text": [
      "7  6  0  \n",
      "3  12  5  \n",
      "-2  4  3  \n"
     ]
    }
   ],
   "source": [
    "for row in range(3):\n",
    "    for col in range(3):\n",
    "        print(M[row][col], \" \", end='')\n",
    "    print()"
   ]
  },
  {
   "cell_type": "markdown",
   "metadata": {},
   "source": [
    "<div class=\"alert alert-success\">\n",
    "<b>Note:</b> The **`end=''`** argument stops the **`print()`** function from adding a new line after each value  \n",
    "</div>"
   ]
  },
  {
   "cell_type": "markdown",
   "metadata": {},
   "source": [
    "We can now square each value and print the result:"
   ]
  },
  {
   "cell_type": "code",
   "execution_count": 88,
   "metadata": {},
   "outputs": [
    {
     "name": "stdout",
     "output_type": "stream",
     "text": [
      "[[2401, 1296, 0], [81, 20736, 625], [16, 256, 81]]\n"
     ]
    }
   ],
   "source": [
    "for row in range(3):\n",
    "    for col in range(3):\n",
    "        M[row][col] = M[row][col]**2\n",
    "        \n",
    "print(M)"
   ]
  },
  {
   "cell_type": "markdown",
   "metadata": {},
   "source": [
    "#### 5.2 While loops"
   ]
  },
  {
   "cell_type": "markdown",
   "metadata": {},
   "source": [
    "Sometimes we don't want to loop through something or repeat something a set known number of times. Instead we sometimes want to keep looping until a certain thing happens. This is where we can use a differnt type of loop that works with the logical operators we saw earlier. Lets say we want to read in password from a user. To read input we can use the **`input()`** function like so:"
   ]
  },
  {
   "cell_type": "code",
   "execution_count": 102,
   "metadata": {},
   "outputs": [
    {
     "name": "stdout",
     "output_type": "stream",
     "text": [
      "Type something: Hello\n"
     ]
    },
    {
     "data": {
      "text/plain": [
       "'Hello'"
      ]
     },
     "execution_count": 102,
     "metadata": {},
     "output_type": "execute_result"
    }
   ],
   "source": [
    "input(\"Type something: \")"
   ]
  },
  {
   "cell_type": "markdown",
   "metadata": {},
   "source": [
    "We might want to keep prompting a user for a login until they enter the correct login details. In this case when you run the code below it will keep prompting you to enter your username until you type in **`letmein`**. Give it a go. Try entering something else first before the required login."
   ]
  },
  {
   "cell_type": "code",
   "execution_count": 1,
   "metadata": {},
   "outputs": [
    {
     "name": "stdout",
     "output_type": "stream",
     "text": [
      "Enter username: no\n",
      "Enter username: letmein\n"
     ]
    }
   ],
   "source": [
    "login = \"\"\n",
    "while(login != \"letmein\"):\n",
    "    login = input(\"Enter username: \")"
   ]
  },
  {
   "cell_type": "markdown",
   "metadata": {},
   "source": [
    "Essentially here we are saying keep repeating everything after the colon (:) **`while`** (or as long as) the variable **`login`** does not equal (`!=`) the string **`letmein`**."
   ]
  },
  {
   "cell_type": "code",
   "execution_count": null,
   "metadata": {
    "collapsed": true
   },
   "outputs": [],
   "source": [
    "## TODO: nested loops, while loops and range start finish"
   ]
  },
  {
   "cell_type": "markdown",
   "metadata": {
    "collapsed": true
   },
   "source": [
    "<div class=\"alert alert-warning\">\n",
    "<b>6.0 Functions</b>  \n",
    "</div>"
   ]
  },
  {
   "cell_type": "markdown",
   "metadata": {},
   "source": [
    "We have already been using functions in Python. For example the **`print()`** is a function, as is **`len()`** and **`range()`**. We use functions to make our code more modular and to contain code that we may need to repeat several times. We also use functions to carry out specific tasks. For example to convert the temperature between different units. To make a function in Python we use the **`def`** command followed by a function name (as with variables try to make this discriptive of what the function does). We can also provide any parameters that we may want to pass into a function. Functions can optionally take input values and return an output."
   ]
  },
  {
   "cell_type": "code",
   "execution_count": 3,
   "metadata": {
    "collapsed": true
   },
   "outputs": [],
   "source": [
    "def my_hello_function():\n",
    "    print(\"Hello world!!\")"
   ]
  },
  {
   "cell_type": "markdown",
   "metadata": {},
   "source": [
    "You will notice when you run the cell above that nothing happens. This is because to run the code contained within a functon we need to first **call** the function. We do this by using the functions name followed by the parenthesis (round brackets)."
   ]
  },
  {
   "cell_type": "code",
   "execution_count": 4,
   "metadata": {},
   "outputs": [
    {
     "name": "stdout",
     "output_type": "stream",
     "text": [
      "Hello world!!\n"
     ]
    }
   ],
   "source": [
    "my_hello_function()"
   ]
  },
  {
   "cell_type": "markdown",
   "metadata": {},
   "source": [
    "We can pass variables to a function so the values can be used internally by the function. For example we could extend the function about to take a string input value and display that message instead. "
   ]
  },
  {
   "cell_type": "code",
   "execution_count": 5,
   "metadata": {
    "collapsed": true
   },
   "outputs": [],
   "source": [
    "def display_message(msg):\n",
    "    print(msg)"
   ]
  },
  {
   "cell_type": "markdown",
   "metadata": {},
   "source": [
    "Now we can pass in a custom message like so."
   ]
  },
  {
   "cell_type": "code",
   "execution_count": 6,
   "metadata": {},
   "outputs": [
    {
     "name": "stdout",
     "output_type": "stream",
     "text": [
      "Say Hi\n"
     ]
    }
   ],
   "source": [
    "display_message(\"Say Hi\")"
   ]
  },
  {
   "cell_type": "markdown",
   "metadata": {},
   "source": [
    "We can pass in multiple values speparating them with commas."
   ]
  },
  {
   "cell_type": "code",
   "execution_count": 7,
   "metadata": {},
   "outputs": [
    {
     "name": "stdout",
     "output_type": "stream",
     "text": [
      "Name:  Dave\n",
      "Age:  56\n"
     ]
    }
   ],
   "source": [
    "def print_person_data(persons_name, persons_age):\n",
    "    print(\"Name: \", persons_name)\n",
    "    print(\"Age: \", persons_age)\n",
    "    \n",
    "print_person_data(\"Dave\", 56)"
   ]
  },
  {
   "cell_type": "markdown",
   "metadata": {},
   "source": [
    "We can also **`return`** or pass back an output form our function. For example the outcome of a calculation that we might want to use later on."
   ]
  },
  {
   "cell_type": "code",
   "execution_count": 8,
   "metadata": {
    "collapsed": true
   },
   "outputs": [],
   "source": [
    "def add_numbers(n1, n2):\n",
    "    return n1 + n2"
   ]
  },
  {
   "cell_type": "code",
   "execution_count": 9,
   "metadata": {},
   "outputs": [
    {
     "name": "stdout",
     "output_type": "stream",
     "text": [
      "7\n"
     ]
    }
   ],
   "source": [
    "answer = add_numbers(5, 2)\n",
    "print(answer)"
   ]
  },
  {
   "cell_type": "markdown",
   "metadata": {},
   "source": [
    "Another useful feature in Python is the ability to provide a default value for a function parameter. Lets say we wanted to write a function to output a workers name and job title. We might have a lot of scientists in the company, so we could this as default value."
   ]
  },
  {
   "cell_type": "code",
   "execution_count": 10,
   "metadata": {
    "collapsed": true
   },
   "outputs": [],
   "source": [
    "def display_name_title(persons_name, persons_role = \"Scientist\"):\n",
    "    print(persons_role, persons_name)"
   ]
  },
  {
   "cell_type": "code",
   "execution_count": 11,
   "metadata": {},
   "outputs": [
    {
     "name": "stdout",
     "output_type": "stream",
     "text": [
      "Scientist Alan Smith\n"
     ]
    }
   ],
   "source": [
    "display_name_title(\"Alan Smith\")"
   ]
  },
  {
   "cell_type": "markdown",
   "metadata": {},
   "source": [
    "This automatically uses **Scientist** as the default role. But this can also be overrided by supplying a value, i.e:"
   ]
  },
  {
   "cell_type": "code",
   "execution_count": 12,
   "metadata": {},
   "outputs": [
    {
     "name": "stdout",
     "output_type": "stream",
     "text": [
      "Manager Paul Gantt\n"
     ]
    }
   ],
   "source": [
    "display_name_title(\"Paul Gantt\", \"Manager\")"
   ]
  },
  {
   "cell_type": "markdown",
   "metadata": {},
   "source": [
    "If we have a variable number of parameters that we want to use we can use the **`args`** keyword. Lets say we had team members and the number could be different."
   ]
  },
  {
   "cell_type": "code",
   "execution_count": 14,
   "metadata": {
    "collapsed": true
   },
   "outputs": [],
   "source": [
    "def team_players(*args):\n",
    "    for arg in args:\n",
    "        print(arg)"
   ]
  },
  {
   "cell_type": "code",
   "execution_count": 15,
   "metadata": {},
   "outputs": [
    {
     "name": "stdout",
     "output_type": "stream",
     "text": [
      "Adam\n",
      "David\n",
      "Barry\n",
      "Steve\n"
     ]
    }
   ],
   "source": [
    "team_players(\"Adam\", \"David\", \"Barry\", \"Steve\")"
   ]
  },
  {
   "cell_type": "code",
   "execution_count": 16,
   "metadata": {},
   "outputs": [
    {
     "name": "stdout",
     "output_type": "stream",
     "text": [
      "Paul\n",
      "Stan\n"
     ]
    }
   ],
   "source": [
    "team_players(\"Paul\", \"Stan\")"
   ]
  },
  {
   "cell_type": "markdown",
   "metadata": {},
   "source": [
    "We can also pass in key, value pairs simular to how a dictionary works using the **`kwargs`** keyword (key word arguments):"
   ]
  },
  {
   "cell_type": "code",
   "execution_count": 2,
   "metadata": {
    "collapsed": true
   },
   "outputs": [],
   "source": [
    "def team_data(**kwargs):\n",
    "    for key, value in kwargs.items():\n",
    "        print(key, \":\", value)"
   ]
  },
  {
   "cell_type": "code",
   "execution_count": 3,
   "metadata": {},
   "outputs": [
    {
     "name": "stdout",
     "output_type": "stream",
     "text": [
      "team_name : Liverpool Lions\n",
      "top_score : 56\n",
      "date_last_played : 02-03-2019\n"
     ]
    }
   ],
   "source": [
    "team_data(team_name = 'Liverpool Lions', top_score = 56, date_last_played = '02-03-2019')"
   ]
  },
  {
   "cell_type": "markdown",
   "metadata": {},
   "source": [
    "<div class=\"alert alert-success\">\n",
    "<b>Note:</b> For more than around 3 parameters we would typically use a data structure like a **`list`** or **`dict`** to keep the code cleaner and store the arguments we want to pass into a function  \n",
    "</div>"
   ]
  },
  {
   "cell_type": "markdown",
   "metadata": {},
   "source": [
    "#### 6.1 Variable scope"
   ]
  },
  {
   "cell_type": "markdown",
   "metadata": {},
   "source": [
    "You can think of the code inside a function as self contained. This means that a variable with the same name inside a function is actually a different variable to one with the same name outside of a function. This is best illustrated with an example."
   ]
  },
  {
   "cell_type": "code",
   "execution_count": 12,
   "metadata": {},
   "outputs": [
    {
     "name": "stdout",
     "output_type": "stream",
     "text": [
      "x inside function = 7\n",
      "x outside function = 10\n"
     ]
    }
   ],
   "source": [
    "x = 10\n",
    "\n",
    "def my_function():\n",
    "    x = 7    \n",
    "    print(\"x inside function =\", x)\n",
    "    \n",
    "my_function()\n",
    "print(\"x outside function =\", x)"
   ]
  },
  {
   "cell_type": "markdown",
   "metadata": {},
   "source": [
    "Here we have 2 variables both called **`x`**. The version of x ouside of the function contains the value 10, whereas the one inside the function contains the value 7. These are 2 separate variables both with the same name. This is termed the **`scope`** of the variable. We can see when we print the values that we get 2 different values 10 and 7. One way to increase the scope of a variable is to give it **`global`** scope by making it what is refered to as a **global variable**."
   ]
  },
  {
   "cell_type": "code",
   "execution_count": 13,
   "metadata": {},
   "outputs": [
    {
     "name": "stdout",
     "output_type": "stream",
     "text": [
      "x = 15\n"
     ]
    }
   ],
   "source": [
    "x = 10\n",
    "\n",
    "def my_function():\n",
    "    global x \n",
    "    x = x + 5\n",
    "    print(\"x =\", x)\n",
    "    \n",
    "my_function()"
   ]
  },
  {
   "cell_type": "markdown",
   "metadata": {},
   "source": [
    "Here we can use the **`global`** keyword to tell Python that the x in the function is actually the same x as the one outside. Now when we add 5 to the value of x (which is 10) we get 15."
   ]
  },
  {
   "cell_type": "markdown",
   "metadata": {
    "solution": "hidden",
    "solution_first": true
   },
   "source": [
    "<div class=\"alert alert-block alert-info\">\n",
    "<b>Task 9:</b>\n",
    "<br> \n",
    "1. Try removing the **`global`** keyword and passing x in as a parameter.<br />\n",
    "2. Print the value of x after calling the function.<br />\n",
    "3. What do you expect the value of **`x`** to be in both cases?\n",
    "</div>"
   ]
  },
  {
   "cell_type": "code",
   "execution_count": 18,
   "metadata": {
    "solution": "hidden"
   },
   "outputs": [
    {
     "name": "stdout",
     "output_type": "stream",
     "text": [
      "x in function = 15\n",
      "x = 10\n"
     ]
    }
   ],
   "source": [
    "x = 10\n",
    "\n",
    "def my_function(x):\n",
    "    x = x + 5\n",
    "    print(\"x in function =\", x)\n",
    "    \n",
    "my_function(x)\n",
    "print(\"x =\", x)"
   ]
  },
  {
   "cell_type": "markdown",
   "metadata": {},
   "source": [
    "#### 6.2 Anonymous functions"
   ]
  },
  {
   "cell_type": "markdown",
   "metadata": {
    "solution": "hidden"
   },
   "source": [
    "Sometimes you need to write a quick disposable one time function to carry out some task and don't want to declare a complete function. Python achives this with what are known as **`lambda`** functions. Consider writting a function to return the sum of two numbers. We might write a function that looks something like this:"
   ]
  },
  {
   "cell_type": "code",
   "execution_count": 20,
   "metadata": {
    "collapsed": true
   },
   "outputs": [],
   "source": [
    "def add_numbers(n1, n2):\n",
    "    return n1 + n2"
   ]
  },
  {
   "cell_type": "code",
   "execution_count": 22,
   "metadata": {},
   "outputs": [
    {
     "name": "stdout",
     "output_type": "stream",
     "text": [
      "Result = 7\n"
     ]
    }
   ],
   "source": [
    "print(\"Result =\", add_numbers(2, 5))"
   ]
  },
  {
   "cell_type": "markdown",
   "metadata": {},
   "source": [
    "We can achive the same with a throw away lambda function, which is usefull if we just want to use a function once."
   ]
  },
  {
   "cell_type": "code",
   "execution_count": 23,
   "metadata": {},
   "outputs": [
    {
     "name": "stdout",
     "output_type": "stream",
     "text": [
      "Result = 10\n"
     ]
    }
   ],
   "source": [
    "add_nums = lambda n1, n2: n1 + n2\n",
    "print(\"Result =\", add_nums(8, 2))"
   ]
  },
  {
   "cell_type": "markdown",
   "metadata": {},
   "source": [
    "#### 6.3 Recursion"
   ]
  },
  {
   "cell_type": "markdown",
   "metadata": {},
   "source": [
    "Another concept relating to functions is that of **`recursion`**. We have seen how we can use **`iteration`** in the form of loops to repeat actions. We can also have nested loops and this nesting can be very deep. There is however a limit to this. To overcome this we can use recursion to get a function to call itself over and over. Certain problems lend themselves to recursion and it is a technique often used in algorithm design."
   ]
  },
  {
   "cell_type": "markdown",
   "metadata": {},
   "source": [
    "Lets look at a classic problem that can be solved with recursion. The **`tower of Hanoi`**. This is mathamatical puzzel where you have 3 pegs and have to move disks from one peg to another one at time such that no larger disk can be ontop of a smaller disk. The task is to do this in the minimum amount of moves possible. The animation below shows this in action"
   ]
  },
  {
   "cell_type": "markdown",
   "metadata": {},
   "source": [
    "<img src=\"./intro_images/tower.gif\" width=\"500\" />"
   ]
  },
  {
   "cell_type": "markdown",
   "metadata": {},
   "source": [
    "So if we write a function that calls itself and pass in the number of disks (4) we can see how many moves it takes (15). You can count the moves in the animation to check."
   ]
  },
  {
   "cell_type": "code",
   "execution_count": 26,
   "metadata": {
    "collapsed": true
   },
   "outputs": [],
   "source": [
    "def hanoi(n):\n",
    "    if n == 1:\n",
    "        return 1\n",
    "    return (2 * hanoi(n-1) + 1)"
   ]
  },
  {
   "cell_type": "code",
   "execution_count": 28,
   "metadata": {},
   "outputs": [
    {
     "name": "stdout",
     "output_type": "stream",
     "text": [
      "Number of moves for 4 disks = 15\n"
     ]
    }
   ],
   "source": [
    "print(\"Number of moves for 4 disks =\", hanoi(4))"
   ]
  },
  {
   "cell_type": "markdown",
   "metadata": {},
   "source": [
    "For 4 disks it is actually doing this:<br />\n",
    "$ = 2 \\times hanoi(3) + 1 $ <br />\n",
    "$ = 2 \\times (2 \\times hanoi(2) + 1) + 1 $ <br />\n",
    "$ = 2 \\times (2 \\times (2 \\times hanoi(1) + 1) + 1) + 1 $ <br />\n",
    "$ = 2 \\times (2 \\times (2 \\times 1 + 1) + 1) + 1 $ <br />\n",
    "$ = 2 \\times (2 \\times (3) + 1) + 1 $ <br />\n",
    "$ = 2 \\times (7) + 1 $ <br />\n",
    "$ = 15 $"
   ]
  },
  {
   "cell_type": "markdown",
   "metadata": {
    "solution": "shown",
    "solution_first": true
   },
   "source": [
    "<div class=\"alert alert-block alert-info\">\n",
    "<b>Task 10:</b>\n",
    "<br> \n",
    "1. Write a function to calculate Body Mass Index (BMI) $$BMI = kg \\div m^2 $$ This is the weight in kilograms divided by the height in meters squared.<br />\n",
    "2. Using **`if`** statements print out the weight classification: less than 18.5 is *underweight*, between 18.5 and 24.9 is *healthy weight* and more than 24.9 is *overweight*.\n",
    "</div>"
   ]
  },
  {
   "cell_type": "code",
   "execution_count": 30,
   "metadata": {
    "solution": "shown"
   },
   "outputs": [
    {
     "name": "stdout",
     "output_type": "stream",
     "text": [
      "BMI = 31\n",
      "Overweight\n"
     ]
    }
   ],
   "source": [
    "def calculate_BMI(weight_kg, height_m):\n",
    "    BMI = weight_kg / height_m**2\n",
    "    print(\"BMI =\", round(BMI))\n",
    "    if BMI < 18.5:\n",
    "        print(\"Underweight\")\n",
    "    elif BMI >= 18.5 and BMI <= 24.9:\n",
    "        print(\"Healthy weight\")\n",
    "    elif BMI > 24.9:\n",
    "        print(\"Overweight\")\n",
    "        \n",
    "calculate_BMI(70, 1.5)"
   ]
  },
  {
   "cell_type": "code",
   "execution_count": null,
   "metadata": {
    "collapsed": true
   },
   "outputs": [],
   "source": []
  },
  {
   "cell_type": "markdown",
   "metadata": {},
   "source": [
    "<div class=\"alert alert-warning\">\n",
    "<b>7.0 Importing modules</b>  \n",
    "</div>"
   ]
  },
  {
   "cell_type": "markdown",
   "metadata": {},
   "source": [
    "There are a massive amount of modules and functions that have been written by various people that are available to use in Python. This saves a lot time writting your own functions to do things. Certainly for common tasks there is nearly always a option available for you to use. Lets consider the arithmetic **`mean`**. Finding the average of some numbers is a common statistical task. We could write our own function to add up a list of numbers and divide them by the length of the list. i.e:"
   ]
  },
  {
   "cell_type": "code",
   "execution_count": 36,
   "metadata": {
    "collapsed": true
   },
   "outputs": [],
   "source": [
    "def average_function(nums):\n",
    "    total = 0\n",
    "    for n in nums:\n",
    "        total += n\n",
    "        \n",
    "    return total / len(nums)"
   ]
  },
  {
   "cell_type": "code",
   "execution_count": 37,
   "metadata": {},
   "outputs": [
    {
     "name": "stdout",
     "output_type": "stream",
     "text": [
      "Mean = 3.8\n"
     ]
    }
   ],
   "source": [
    "my_list = [5, 2, 4, 6, 2]\n",
    "print(\"Mean =\", average_function(my_list))"
   ]
  },
  {
   "cell_type": "markdown",
   "metadata": {},
   "source": [
    "But why go to this trouble if someone has already made such a function for you and probably tested the function throughly. To use functions others have written we need to use the **`import`** keyword followed by the module. For example if we want to use the **`mean`** function from the **`statistics`** module:"
   ]
  },
  {
   "cell_type": "code",
   "execution_count": 38,
   "metadata": {},
   "outputs": [
    {
     "name": "stdout",
     "output_type": "stream",
     "text": [
      "Mean = 3.8\n"
     ]
    }
   ],
   "source": [
    "import statistics\n",
    "\n",
    "my_list = [5, 2, 4, 6, 2]\n",
    "print(\"Mean =\", statistics.mean(my_list))"
   ]
  },
  {
   "cell_type": "markdown",
   "metadata": {},
   "source": [
    "To access the **`mean`** function in the **`statistics`** module we type the name of the module a dot and then the name of function we want to use. There a many different ways we can do this in Python depending on our needs. Lets say we want to use the **`sqrt`** function from the **`math`** module to find out the square root of a number. We can do this in the following ways."
   ]
  },
  {
   "cell_type": "code",
   "execution_count": 42,
   "metadata": {},
   "outputs": [
    {
     "name": "stdout",
     "output_type": "stream",
     "text": [
      "Square root of 32 is  5.656854249492381\n"
     ]
    }
   ],
   "source": [
    "import math\n",
    "\n",
    "print(\"Square root of 32 is \", math.sqrt(32))"
   ]
  },
  {
   "cell_type": "markdown",
   "metadata": {},
   "source": [
    "In this next example we specifically call the function that we want from the module. Now we don't need to use the dot, we can use it directly like we do the **`print`** function. We can call more functions by separating them with commas."
   ]
  },
  {
   "cell_type": "code",
   "execution_count": 45,
   "metadata": {},
   "outputs": [
    {
     "name": "stdout",
     "output_type": "stream",
     "text": [
      "Square root of 32 is  5.656854249492381\n"
     ]
    }
   ],
   "source": [
    "from math import sqrt\n",
    "\n",
    "print(\"Square root of 32 is \", sqrt(32))"
   ]
  },
  {
   "cell_type": "markdown",
   "metadata": {},
   "source": [
    "This next option uses the star to import everything form the math module."
   ]
  },
  {
   "cell_type": "code",
   "execution_count": 44,
   "metadata": {},
   "outputs": [
    {
     "name": "stdout",
     "output_type": "stream",
     "text": [
      "Square root of 32 is  5.656854249492381\n"
     ]
    }
   ],
   "source": [
    "from math import *\n",
    "\n",
    "print(\"Square root of 32 is \", sqrt(32))"
   ]
  },
  {
   "cell_type": "markdown",
   "metadata": {},
   "source": [
    "We can even rename modules as in this case where we call the **`math`** module **`m`** this is often done with certain modules in Python for example the **`numpy`** module as seen below."
   ]
  },
  {
   "cell_type": "code",
   "execution_count": 48,
   "metadata": {},
   "outputs": [
    {
     "name": "stdout",
     "output_type": "stream",
     "text": [
      "Square root of 32 is  5.656854249492381\n"
     ]
    }
   ],
   "source": [
    "import math as m\n",
    "\n",
    "print(\"Square root of 32 is \", m.sqrt(32))"
   ]
  },
  {
   "cell_type": "code",
   "execution_count": 49,
   "metadata": {
    "collapsed": true
   },
   "outputs": [],
   "source": [
    "import numpy as np"
   ]
  },
  {
   "cell_type": "markdown",
   "metadata": {},
   "source": [
    "Finally you can load other local Python files that you have written yourself in the same way. Just type **`import`** folowed by the name of your Python file. This can be used to organise larger projects with multiple Python source code files."
   ]
  },
  {
   "cell_type": "markdown",
   "metadata": {},
   "source": [
    "<div class=\"alert alert-warning\">\n",
    "<b>8.0 Classes</b>  \n",
    "</div>"
   ]
  },
  {
   "cell_type": "markdown",
   "metadata": {
    "collapsed": true,
    "solution": "hidden"
   },
   "source": [
    "Python also supports **Object Orientated Programming** (OOP). This is essentially a way of storing multiple functions and variables that are in some way semantically related together. "
   ]
  },
  {
   "cell_type": "markdown",
   "metadata": {},
   "source": [
    "Consider building a system that could model health interactions. We could create **`objects`** to represent the key elements of this system such as doctors, nurses and patients. To do this we can design a **`class`** for each of these that **`encapsulates`** various functions (called methods) and variables (attributes). Lets start by building a class for a doctor."
   ]
  },
  {
   "cell_type": "code",
   "execution_count": 50,
   "metadata": {
    "collapsed": true
   },
   "outputs": [],
   "source": [
    "class Doctor:\n",
    "    def __init__(self, name, role):\n",
    "        self.name = name\n",
    "        self.role = role"
   ]
  },
  {
   "cell_type": "markdown",
   "metadata": {},
   "source": [
    "So here is a basic class containing one method called **`__init__`** that takes some parameters for the type of doctor and their name and stores these in variables insided the class. Note that class names tend to start with a capital letter to distringuish them. A class is like a blueprint where an object is like a specific instance. This would be like having class **phone** and then an isntance of this called **iPhone** or a class called **car** with an instance called **Mini**. "
   ]
  },
  {
   "cell_type": "code",
   "execution_count": 51,
   "metadata": {
    "collapsed": true
   },
   "outputs": [],
   "source": [
    "my_doctor = Doctor(\"Sandra Clark\", \"Cardiac consultant\")"
   ]
  },
  {
   "cell_type": "code",
   "execution_count": 52,
   "metadata": {
    "collapsed": true
   },
   "outputs": [],
   "source": [
    "another_doctor = Doctor(\"Mike Smith\", \"Respiratory F1\")"
   ]
  },
  {
   "cell_type": "markdown",
   "metadata": {},
   "source": [
    "Here we have made 2 instances of our doctor class. Lets add some methods the class:"
   ]
  },
  {
   "cell_type": "code",
   "execution_count": 63,
   "metadata": {
    "collapsed": true
   },
   "outputs": [],
   "source": [
    "class Doctor:\n",
    "    def __init__(self, name, role):\n",
    "        self.name = name\n",
    "        self.role = role\n",
    "        self.patients_processed = 0\n",
    "        \n",
    "    def admit_patient(self, patient):\n",
    "        print(self.name, \"will admit patient\", patient)\n",
    "        self.process_patient()\n",
    "    \n",
    "    def diagnose_patient(self, patient):\n",
    "        print(self.name, \"will diagnose patient\", patient)\n",
    "        self.process_patient()\n",
    "    \n",
    "    def discharge_patient(self, patient):\n",
    "        print(self.name, \"will discharge patient\", patient)\n",
    "        self.process_patient()\n",
    "        \n",
    "    def process_patient(self):\n",
    "        self.patients_processed += 1\n",
    "        \n",
    "    def number_of_times_patients_processed(self):\n",
    "        return self.patients_processed"
   ]
  },
  {
   "cell_type": "code",
   "execution_count": 65,
   "metadata": {
    "solution": "hidden"
   },
   "outputs": [
    {
     "name": "stdout",
     "output_type": "stream",
     "text": [
      "Sandra Clark will admit patient Alan\n",
      "Sandra Clark will diagnose patient Alan\n",
      "Sandra Clark will discharge patient Alan\n",
      "Mike Smith will admit patient Jane\n",
      "Mike Smith will discharge patient Jane\n",
      "Sandra processed patients 3 times\n",
      "Mike processed patients 2 times\n"
     ]
    }
   ],
   "source": [
    "patient_1 = \"Alan\"\n",
    "patient_2 = \"Jane\"\n",
    "\n",
    "sandra = Doctor(\"Sandra Clark\", \"Cardiac consultant\")\n",
    "mike = Doctor(\"Mike Smith\", \"Respiratory F1\")\n",
    "\n",
    "sandra.admit_patient(patient_1)\n",
    "sandra.diagnose_patient(patient_1)\n",
    "sandra.discharge_patient(patient_1)\n",
    "\n",
    "mike.admit_patient(patient_2)\n",
    "mike.discharge_patient(patient_2)\n",
    "\n",
    "print(\"Sandra processed patients\", sandra.number_of_times_patients_processed(), \"times\")\n",
    "print(\"Mike processed patients\", mike.number_of_times_patients_processed(), \"times\")"
   ]
  },
  {
   "cell_type": "markdown",
   "metadata": {
    "solution": "hidden"
   },
   "source": [
    "Here you can see how powerfull this can be as our 2 different doctors each have a copy of all the variables and functions related to the class and can hold different versions of the data. The ability to create and talk about objects enables us to model things in the real world and helps none programmers to talk programmers using the same terms and concepts. "
   ]
  },
  {
   "cell_type": "markdown",
   "metadata": {},
   "source": [
    "To access methods in the class we type the object instance name (i.e. **`sandra`**) and then the method we want to call i.e. **`admit_patient()`**. We also have to use the **`self`** keyword to preceed variables and functions contained within a class."
   ]
  },
  {
   "cell_type": "markdown",
   "metadata": {
    "solution": "hidden",
    "solution_first": true
   },
   "source": [
    "<div class=\"alert alert-block alert-info\">\n",
    "<b>Task 11:</b>\n",
    "<br> \n",
    "1. Write a method in the class called **`current_role`** that outputs the doctors role.<br />\n",
    "2. Create a new doctor instance called **`mary`** and call the new method.\n",
    "</div>"
   ]
  },
  {
   "cell_type": "code",
   "execution_count": 67,
   "metadata": {
    "collapsed": true,
    "solution": "hidden"
   },
   "outputs": [],
   "source": [
    "class Doctor:\n",
    "    def __init__(self, name, role):\n",
    "        self.name = name\n",
    "        self.role = role\n",
    "        self.patients_processed = 0\n",
    "        \n",
    "    def admit_patient(self, patient):\n",
    "        print(self.name, \"will admit patient\", patient)\n",
    "        self.process_patient()\n",
    "    \n",
    "    def diagnose_patient(self, patient):\n",
    "        print(self.name, \"will diagnose patient\", patient)\n",
    "        self.process_patient()\n",
    "    \n",
    "    def discharge_patient(self, patient):\n",
    "        print(self.name, \"will discharge patient\", patient)\n",
    "        self.process_patient()\n",
    "        \n",
    "    def process_patient(self):\n",
    "        self.patients_processed += 1\n",
    "        \n",
    "    def number_of_times_patients_processed(self):\n",
    "        return self.patients_processed\n",
    "    \n",
    "    def current_role(self):\n",
    "        print(\"My role is:\", self.role)"
   ]
  },
  {
   "cell_type": "code",
   "execution_count": 69,
   "metadata": {
    "solution": "hidden"
   },
   "outputs": [
    {
     "name": "stdout",
     "output_type": "stream",
     "text": [
      "My role is: Cardiothoracic surgeon\n"
     ]
    }
   ],
   "source": [
    "mary = Doctor(\"Mary\", \"Cardiothoracic surgeon\")\n",
    "mary.current_role()"
   ]
  },
  {
   "cell_type": "code",
   "execution_count": null,
   "metadata": {
    "solution": "hidden"
   },
   "outputs": [],
   "source": []
  },
  {
   "cell_type": "code",
   "execution_count": null,
   "metadata": {
    "collapsed": true
   },
   "outputs": [],
   "source": []
  },
  {
   "cell_type": "markdown",
   "metadata": {},
   "source": [
    "Another way we can represent classes and design them/show interactions between them is by making a class diagram:"
   ]
  },
  {
   "cell_type": "markdown",
   "metadata": {},
   "source": [
    "<img src=\"./intro_images/doctor.png\" width=\"500\" />"
   ]
  },
  {
   "cell_type": "markdown",
   "metadata": {},
   "source": [
    "The diagram shows the class name at the top followed by the attribues (variables) and what data type they represent. The next section shows the class methods and their inputs."
   ]
  },
  {
   "cell_type": "markdown",
   "metadata": {},
   "source": [
    "So far we have been representing our patients as simple strings. Lets make a patient class so that it can interact with our doctor class. We can give the patients a name, age, hospital number, presenting problem, diagnosis and past medical history. "
   ]
  },
  {
   "cell_type": "code",
   "execution_count": 98,
   "metadata": {},
   "outputs": [],
   "source": [
    "class Patient:\n",
    "    def __init__(self, name, hospital_number, presenting_complaint):\n",
    "        self.name = name\n",
    "        self.hospital_number = hospital_number\n",
    "        self.presenting_complaint = presenting_complaint\n",
    "        self.PMH = []\n",
    "        self.diagnosis = None\n",
    "        \n",
    "    def add_medical_history(self, medical_history_item):\n",
    "        self.PMH.append(medical_history_item)\n",
    "        \n",
    "    def get_medical_history(self):\n",
    "        return self.PMH\n",
    "    \n",
    "    def show_diagnosis(self):\n",
    "        return self.diagnosis\n",
    "    \n",
    "    def update_diagnosis(self, diagnosis):\n",
    "        self.diagnosis = diagnosis\n",
    "        \n",
    "    def whats_wrong(self):\n",
    "        return self.presenting_complaint"
   ]
  },
  {
   "cell_type": "markdown",
   "metadata": {},
   "source": [
    "Now lets make some patients and give them some past and current medical problems."
   ]
  },
  {
   "cell_type": "code",
   "execution_count": 99,
   "metadata": {
    "collapsed": true
   },
   "outputs": [],
   "source": [
    "john = Patient(\"John Miles\", 123456, \"Abdominal pain\")\n",
    "john.add_medical_history(\"Gout\")\n",
    "john.add_medical_history(\"IHD\")\n",
    "john.add_medical_history(\"MS\")\n",
    "\n",
    "jane = Patient(\"Jane Smith\", 344532, \"Chest pain\")\n",
    "jane.add_medical_history(\"Hypertension\")\n",
    "jane.add_medical_history(\"Type II diabetes\")"
   ]
  },
  {
   "cell_type": "code",
   "execution_count": 100,
   "metadata": {},
   "outputs": [
    {
     "name": "stdout",
     "output_type": "stream",
     "text": [
      "['Gout', 'IHD', 'MS']\n",
      "['Hypertension', 'Type II diabetes']\n"
     ]
    }
   ],
   "source": [
    "print(john.get_medical_history())\n",
    "print(jane.get_medical_history())"
   ]
  },
  {
   "cell_type": "markdown",
   "metadata": {},
   "source": [
    "Now lets update our doctor class to work better with our patient class."
   ]
  },
  {
   "cell_type": "code",
   "execution_count": 101,
   "metadata": {
    "collapsed": true
   },
   "outputs": [],
   "source": [
    "class Doctor:\n",
    "    def __init__(self, name, role):\n",
    "        self.name = name\n",
    "        self.role = role\n",
    "        self.patients_processed = 0\n",
    "        \n",
    "    def admit_patient(self, patient):\n",
    "        print(self.name, \"will admit patient\", patient)\n",
    "        self.process_patient()\n",
    "    \n",
    "    def diagnose_patient(self, patient, presenting_complaint):\n",
    "        diagnosis = \"\"\n",
    "        print(self.name, \"will diagnose patient\", patient)\n",
    "        self.process_patient()\n",
    "        if presenting_complaint == \"Abdominal pain\":\n",
    "            diagnosis = \"Gall stones\"\n",
    "        elif presenting_complaint == \"Chest pain\":\n",
    "            diagnosis = \"Myocardial infarction (heart attack)\"\n",
    "        else:\n",
    "            diagnosis = \"Unknown - need to run more tests\"\n",
    "        \n",
    "        return diagnosis\n",
    "    \n",
    "    def discharge_patient(self, patient):\n",
    "        print(self.name, \"will discharge patient\", patient)\n",
    "        self.process_patient()\n",
    "        \n",
    "    def process_patient(self):\n",
    "        self.patients_processed += 1\n",
    "        \n",
    "    def number_of_times_patients_processed(self):\n",
    "        return self.patients_processed"
   ]
  },
  {
   "cell_type": "code",
   "execution_count": 102,
   "metadata": {},
   "outputs": [
    {
     "name": "stdout",
     "output_type": "stream",
     "text": [
      "John's diagnosis = None\n",
      "Mike Smith will admit patient John Miles\n",
      "Mike Smith will diagnose patient John Miles\n"
     ]
    }
   ],
   "source": [
    "print(\"John's diagnosis =\", john.show_diagnosis())\n",
    "mike = Doctor(\"Mike Smith\", \"Respiratory F1\")\n",
    "mike.admit_patient(john.name)\n",
    "john.update_diagnosis(mike.diagnose_patient(john.name, john.whats_wrong()))"
   ]
  },
  {
   "cell_type": "code",
   "execution_count": 103,
   "metadata": {},
   "outputs": [
    {
     "name": "stdout",
     "output_type": "stream",
     "text": [
      "John's diagnosis = Gall stones\n"
     ]
    }
   ],
   "source": [
    "print(\"John's diagnosis =\", john.show_diagnosis())"
   ]
  },
  {
   "cell_type": "code",
   "execution_count": null,
   "metadata": {
    "collapsed": true,
    "solution": "hidden"
   },
   "outputs": [],
   "source": []
  }
 ],
 "metadata": {
  "hide_input": false,
  "kernelspec": {
   "display_name": "Python 3",
   "language": "python",
   "name": "python3"
  },
  "language_info": {
   "codemirror_mode": {
    "name": "ipython",
    "version": 3
   },
   "file_extension": ".py",
   "mimetype": "text/x-python",
   "name": "python",
   "nbconvert_exporter": "python",
   "pygments_lexer": "ipython3",
   "version": "3.6.3"
  }
 },
 "nbformat": 4,
 "nbformat_minor": 2
}
